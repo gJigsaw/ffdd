{
 "cells": [
  {
   "cell_type": "markdown",
   "metadata": {
    "slideshow": {
     "slide_type": "skip"
    }
   },
   "source": [
    "#Table of Contents\n",
    "* [Notes!](#Notes!)\n",
    "* [App](#App)\n",
    "* [Configuration](#Configuration)\n",
    "* [Initialization](#Initialization)\n",
    "* [Title](#Title)\n",
    "* [Survey](#Survey)\n",
    "* [Reality check](#Reality-check)\n",
    "* [Goal](#Goal)\n",
    "\t* [Cowboy](#Cowboy)\n",
    "\t* [workflow](#workflow)\n",
    "* [Docker](#Docker)\n",
    "\t* [Hello, world](#Hello,-world)\n",
    "\t* [/etc/issue](#/etc/issue)\n",
    "\t* [get_ext_ip](#get_ext_ip)\n",
    "\t\t* [Don't conflate concepts.](#Don't-conflate-concepts.)\n",
    "\t\t* [via commit](#via-commit)\n",
    "\t\t* [image size check (commit)](#image-size-check-%28commit%29)\n",
    "\t\t* [via dockerfile](#via-dockerfile)\n",
    "\t* [Review](#Review)\n",
    "* [Our Host](#Our-Host)\n",
    "* [Our App](#Our-App)\n",
    "\t* [Nothing up my sleeve](#Nothing-up-my-sleeve)\n",
    "\t* [Getting to know your web server](#Getting-to-know-your-web-server)\n",
    "\t\t* [Our web server's code](#Our-web-server's-code)\n",
    "\t\t* [Our web server's requirements file](#Our-web-server's-requirements-file)\n",
    "\t\t* [Our web server's **dockerfile**](#Our-web-server's-**dockerfile**)\n",
    "\t\t* [Our web server's **image**](#Our-web-server's-**image**)\n",
    "* [Docker Compose](#Docker-Compose)\n",
    "\t* [flask in yaml](#flask-in-yaml)\n",
    "\t* [flask & redis in yaml](#flask-&-redis-in-yaml)\n",
    "\t* [reordering our dockerfile](#reordering-our-dockerfile)\n",
    "\t* [decoupling web.py and our web **image**](#decoupling-web.py-and-our-web-**image**)\n",
    "\t* [decoupling web.py and web_image](#decoupling-web.py-and-web_image)\n",
    "\t* [Don't expect too much from **docker-compose up**.](#Don't-expect-too-much-from-**docker-compose-up**.)\n",
    "\t* [Don't put any more in your image than you must.](#Don't-put-any-more-in-your-image-than-you-must.)\n",
    "\t* [Don't forget volumes.](#Don't-forget-volumes.)\n",
    "* [Amazon Web Services](#Amazon-Web-Services)\n",
    "\t* [TLAs (Three Letter Acronyms)](#TLAs-%28Three-Letter-Acronyms%29)\n"
   ]
  },
  {
   "cell_type": "markdown",
   "metadata": {
    "slideshow": {
     "slide_type": "skip"
    }
   },
   "source": [
    "# Notes!"
   ]
  },
  {
   "cell_type": "markdown",
   "metadata": {
    "slideshow": {
     "slide_type": "skip"
    }
   },
   "source": [
    "\n",
    "Don't forget volumes.\n",
    "  **docker rm** does _not_ remove associated volumes.\n",
    "  **docker-compose** replaces existing containers.\n",
    "  orphaned volumes add up.\n",
    "  Use **docker rm** -v or --volume to remove the volume.\n",
    "  Ticket?\n",
    "\n",
    "Don't leave any initialization out of your image.\n",
    "  Configuration files can live in the source.\n",
    "\n",
    "Don't wait on downloads.\n",
    "  Circle-CI too ephemeral.\n",
    "    circle.yml\n",
    "    caching tar hack\n",
    "  \n",
    "Don't wait on builds.\n",
    "  Don't redeploy in development.\n",
    "  Use a mounted source volume.\n",
    "\n",
    "Don't complicate early.\n",
    "  Amazon ECS, while powerful, can wait.\n",
    "  As of last week, ECS will use docker-compose.\n",
    "\n",
    "Don't lose yourself.\n",
    "  docker in docker\n",
    "      Let's imagine what deploying to our production server will entail.\n",
    "    I expect we'll need ssh access to it in order to run commands.\n",
    "    It will have docker to run our containers and docker-compose to coordinate them.\n",
    "    Oh, our code! How do we get it from the repo onto this server?\n",
    "        git pull?\n",
    "            ew. That feels wrong.\n",
    "        Didn't we just learn how to build Dockerfiles?\n",
    "            Let's bake our code into an image.\n",
    "            The docker registry can house our production-ready image.\n",
    "            Then a \"deploy\" becomes **docker run**.\n",
    "            Wait. I mean **docker compose***.\n",
    "            Wait. **docker compose*** requires a yml file.\n",
    "            That lives in our repo. Crap.\n",
    "            How do I get my docker-compose.yml onto this server?\n",
    "            Well, I could put the docker-compose.yml into an image...\n",
    "            Then, I could have a \"deploy\" container.\n",
    "            It could run \"**docker-compose** run\" for me.\n",
    "   So, our target deploy process: \n",
    "    - ssh to server that hase docker and docker-compose.\n",
    "    - **docker run** deploy:commit-hash\n",
    "    - smile\n",
    "   I actually got this to run. (shame/pride)\n",
    "   In the process, I learned about aufs (used by docker for image layers).\n",
    "   The aufs layers don't live inside the container.\n",
    "   They live on the host file system. \n",
    "   How to get around this?\n",
    "   **docker export** lets you turn an image into a regular tar file.\n",
    "   My build process involved exporting my images before committing my deploy container.\n",
    "   This took forever, used _way_ too much space, and felt awful.\n",
    "   So I went online, asked for help, and found I'd gone WAY off the beaten path.\n",
    "   The \"docker\" way: **docker-machine**.\n",
    "   **docker-machine create** takes a --driver command.\n",
    "\n",
    "\n",
    "Don't repeat yourself.\n",
    "  docker-compose.yml\n",
    "    develop.yml\n",
    "    test.yml\n",
    "    deploy.yml\n",
    "    \n",
    "    Remarkably similar with many identical sections, but a few key differences.\n",
    "    How do we keep the shared sections DRY?\n",
    "    DRY (Don't Repeat Yourself)\n",
    "    \n",
    "    Must we bust out jinja2 templating?\n",
    "    \n",
    "    Great news: **docker compose** provides a solution!\n",
    "        extends:\n",
    "          file:\n",
    "          service:\n",
    "    \n",
    "    develop.yml >-+-> deploy.yml >-+-> app/service.yml\n",
    "    test.yml    >-/                \\-> common/service.yml\n",
    "    \n",
    "    Hooray!\n",
    "    \n",
    "    Sad news: container-transform has no idea knowledge of 'extends'.\n",
    "    So, now we can't deploy to ecs.\n",
    "    Let's get simpler. Let's just deploy to our own EC2 instance.\n",
    "    \n",
    "    Whatever. We didn't really need any of that complication/functionality yet anyway.\n",
    "    \n",
    "    We learned how to spin up EC2 instances from Launch Configurations.\n",
    "    \n",
    "    \n",
    "Don't duplicate tools.\n",
    "   docker-machine replaced Boot2Docker.\n",
    "   KiteMatic exists.\n",
    "    \n",
    "continuous integration tools\n",
    "    travis\n",
    "    jenkins\n",
    "    buildbot\n",
    "    shippable\n",
    "    circle-ci\n",
    "    \n",
    "Don't get lost.\n",
    "  bash prompt hacking dm:, d:, dc:\n",
    " \n",
    "Don't share secrets.\n",
    "  not in the repo\n",
    "  \n",
    "local, test, qa, production\n",
    "informatics, arcus, converge\n",
    "customer_a, customer_b, customer_c\n"
   ]
  },
  {
   "cell_type": "markdown",
   "metadata": {
    "slideshow": {
     "slide_type": "skip"
    }
   },
   "source": [
    "# App"
   ]
  },
  {
   "cell_type": "markdown",
   "metadata": {
    "slideshow": {
     "slide_type": "skip"
    }
   },
   "source": [
    "# Configuration"
   ]
  },
  {
   "cell_type": "code",
   "execution_count": null,
   "metadata": {
    "collapsed": false,
    "slideshow": {
     "slide_type": "skip"
    }
   },
   "outputs": [],
   "source": [
    "%%javascript\n",
    "IPython.load_extensions('calico-document-tools');"
   ]
  },
  {
   "cell_type": "code",
   "execution_count": null,
   "metadata": {
    "collapsed": false,
    "slideshow": {
     "slide_type": "skip"
    }
   },
   "outputs": [],
   "source": [
    "from IPython.html.services.config import ConfigManager\n",
    "from IPython.utils.path import locate_profile\n",
    "cm = ConfigManager(profile_dir=locate_profile(get_ipython().profile))\n",
    "cm.update('livereveal', dict(\n",
    "    theme='white',\n",
    "    transition='none',\n",
    "    start_slideshow_at='selected',\n",
    "    width=1024,\n",
    "    height=768,\n",
    "))"
   ]
  },
  {
   "cell_type": "markdown",
   "metadata": {
    "slideshow": {
     "slide_type": "skip"
    }
   },
   "source": [
    "# Initialization"
   ]
  },
  {
   "cell_type": "code",
   "execution_count": null,
   "metadata": {
    "collapsed": false,
    "slideshow": {
     "slide_type": "skip"
    }
   },
   "outputs": [],
   "source": [
    "# Presentation Initialization \n",
    "docker_stop_all = 'docker stop $(docker ps -a -q)'\n",
    "docker_remove_all = 'docker rm $(docker ps -a -q)'\n",
    "docker_nuke = docker_stop_all + '&&' + docker_remove_all\n",
    "!$docker_nuke\n",
    "!rm Dockerfile\n",
    "!rm -rf /ffdd/app\n",
    "!mkdir /ffdd/app"
   ]
  },
  {
   "cell_type": "code",
   "execution_count": null,
   "metadata": {
    "collapsed": true,
    "slideshow": {
     "slide_type": "skip"
    }
   },
   "outputs": [],
   "source": [
    "# Pull images for our app\n",
    "!docker pull busybox:buildroot-2013.08.1\n",
    "!docker pull python:3.4\n",
    "!docker pull redis:3.0.2"
   ]
  },
  {
   "cell_type": "markdown",
   "metadata": {
    "slideshow": {
     "slide_type": "skip"
    }
   },
   "source": [
    "# Title"
   ]
  },
  {
   "cell_type": "markdown",
   "metadata": {
    "slideshow": {
     "slide_type": "slide"
    }
   },
   "source": [
    "Fumbling Forward\n",
    "========\n",
    "Docker Don'ts\n",
    "=======\n",
    "Jason M. Green"
   ]
  },
  {
   "cell_type": "markdown",
   "metadata": {
    "slideshow": {
     "slide_type": "fragment"
    }
   },
   "source": [
    "gJigsaw  <sub><sub>gMail, GitHub, <sub> and **very** infrequently Twitter</sub></sub></sub>"
   ]
  },
  {
   "cell_type": "markdown",
   "metadata": {
    "slideshow": {
     "slide_type": "skip"
    }
   },
   "source": [
    "# Survey"
   ]
  },
  {
   "cell_type": "markdown",
   "metadata": {
    "collapsed": true,
    "slideshow": {
     "slide_type": "slide"
    }
   },
   "source": [
    "<img style=\"float: right; margin: 0px 15px 15px 0px;\" \n",
    "src=\"files/images/no-chair.png\" \n",
    "height=\"200\" width=\"200\" />\n",
    "All Rise"
   ]
  },
  {
   "cell_type": "markdown",
   "metadata": {
    "collapsed": true,
    "slideshow": {
     "slide_type": "subslide"
    }
   },
   "source": [
    "<img style=\"float: right; margin: 0px 15px 15px 0px;\" \n",
    "src=\"files/images/no-chair.png\" \n",
    "height=\"200\" width=\"200\" />\n",
    "All Rise\n",
    "<p>\n",
    "<sub>This will only take a moment.</sub>\n"
   ]
  },
  {
   "cell_type": "markdown",
   "metadata": {
    "slideshow": {
     "slide_type": "subslide"
    }
   },
   "source": [
    "Don't sit down if you have..."
   ]
  },
  {
   "cell_type": "markdown",
   "metadata": {
    "slideshow": {
     "slide_type": "fragment"
    }
   },
   "source": [
    "- heard of Docker"
   ]
  },
  {
   "cell_type": "markdown",
   "metadata": {
    "slideshow": {
     "slide_type": "fragment"
    }
   },
   "source": [
    "- installed Docker"
   ]
  },
  {
   "cell_type": "markdown",
   "metadata": {
    "slideshow": {
     "slide_type": "fragment"
    }
   },
   "source": [
    "- run a Docker container"
   ]
  },
  {
   "cell_type": "markdown",
   "metadata": {
    "slideshow": {
     "slide_type": "fragment"
    }
   },
   "source": [
    "- written a Dockerfile"
   ]
  },
  {
   "cell_type": "markdown",
   "metadata": {
    "collapsed": true,
    "slideshow": {
     "slide_type": "fragment"
    }
   },
   "source": [
    "- run docker-compose"
   ]
  },
  {
   "cell_type": "markdown",
   "metadata": {
    "collapsed": true,
    "slideshow": {
     "slide_type": "subslide"
    }
   },
   "source": [
    "Don't sit down if you have...\n",
    "- run tests in a docker container"
   ]
  },
  {
   "cell_type": "markdown",
   "metadata": {
    "slideshow": {
     "slide_type": "fragment"
    }
   },
   "source": [
    "- setup an on-commit action"
   ]
  },
  {
   "cell_type": "markdown",
   "metadata": {
    "slideshow": {
     "slide_type": "fragment"
    }
   },
   "source": [
    "- run docker-machine"
   ]
  },
  {
   "cell_type": "markdown",
   "metadata": {
    "slideshow": {
     "slide_type": "fragment"
    }
   },
   "source": [
    "- consumed CI-as-a-service"
   ]
  },
  {
   "cell_type": "markdown",
   "metadata": {
    "slideshow": {
     "slide_type": "fragment"
    }
   },
   "source": [
    "- provided CI-as-a-service"
   ]
  },
  {
   "cell_type": "markdown",
   "metadata": {
    "collapsed": true,
    "slideshow": {
     "slide_type": "subslide"
    }
   },
   "source": [
    "Don't sit down if you have...\n",
    "- desire to present in my stead"
   ]
  },
  {
   "cell_type": "markdown",
   "metadata": {
    "collapsed": true,
    "slideshow": {
     "slide_type": "fragment"
    }
   },
   "source": [
    "<sub> <sub> Please? </sub> </sub> "
   ]
  },
  {
   "cell_type": "markdown",
   "metadata": {
    "slideshow": {
     "slide_type": "subslide"
    }
   },
   "source": [
    "# Reality check"
   ]
  },
  {
   "cell_type": "markdown",
   "metadata": {
    "slideshow": {
     "slide_type": "fragment"
    }
   },
   "source": [
    "I claim neither authority nor expertise."
   ]
  },
  {
   "cell_type": "markdown",
   "metadata": {
    "slideshow": {
     "slide_type": "fragment"
    }
   },
   "source": [
    "This talk may include terrible advice."
   ]
  },
  {
   "cell_type": "markdown",
   "metadata": {
    "slideshow": {
     "slide_type": "fragment"
    }
   },
   "source": [
    "Please speak up; I'd love to improve it."
   ]
  },
  {
   "cell_type": "markdown",
   "metadata": {
    "slideshow": {
     "slide_type": "skip"
    }
   },
   "source": [
    "# Goal"
   ]
  },
  {
   "cell_type": "markdown",
   "metadata": {
    "slideshow": {
     "slide_type": "slide"
    }
   },
   "source": [
    "<img style=\"float: right; margin: 0px 15px 15px 0px;\" \n",
    "src=\"files/images/holy_grail.jpg\" \n",
    "height=\"200\" width=\"200\" />\n",
    "\n",
    "Our Quest\n",
    "=====\n",
    "**Continuous Delivery**\n",
    "\n",
    " \n",
    "<p>\n",
    " "
   ]
  },
  {
   "cell_type": "markdown",
   "metadata": {
    "slideshow": {
     "slide_type": "subslide"
    }
   },
   "source": [
    "<img style=\"float: right; margin: 0px 15px 15px 0px;\" \n",
    "src=\"files/images/holy_grail.jpg\" \n",
    "height=\"200\" width=\"200\" />\n",
    "\n",
    "Our Quest\n",
    "=====\n",
    "**Continuous Delivery**\n",
    "\n",
    "Wait. \n",
    "<p>\n",
    "What does that mean?"
   ]
  },
  {
   "cell_type": "markdown",
   "metadata": {
    "slideshow": {
     "slide_type": "subslide"
    }
   },
   "source": [
    "<img style=\"float: right; margin: 0px 15px 15px 0px;\" \n",
    "src=\"files/images/holy_grail.jpg\" \n",
    "height=\"200\" width=\"200\" />\n",
    "\n",
    "Our Quest\n",
    "=====\n",
    "**Continuous Delivery**\n",
    "\n",
    "<sub>\"is the practice of releasing every good build to users\"</sub>\n",
    "<p><t><sub><sub> - [Jez Humble](http://www.amazon.com/Jez-Humble/e/B003SNGS8E/)\n",
    "(VP at Chef and author of Continuous Delivery)</sub></sub>"
   ]
  },
  {
   "cell_type": "markdown",
   "metadata": {
    "slideshow": {
     "slide_type": "subslide"
    }
   },
   "source": [
    "Shortest possible path\n",
    "---------------------"
   ]
  },
  {
   "cell_type": "markdown",
   "metadata": {
    "slideshow": {
     "slide_type": "fragment"
    }
   },
   "source": [
    "- imagine\n",
    " - Have an idea."
   ]
  },
  {
   "cell_type": "markdown",
   "metadata": {
    "slideshow": {
     "slide_type": "fragment"
    }
   },
   "source": [
    "- code \n",
    " - Write/Edit files."
   ]
  },
  {
   "cell_type": "markdown",
   "metadata": {
    "slideshow": {
     "slide_type": "fragment"
    }
   },
   "source": [
    "- deploy\n",
    " - Get it out there."
   ]
  },
  {
   "cell_type": "markdown",
   "metadata": {
    "slideshow": {
     "slide_type": "fragment"
    }
   },
   "source": [
    "Wait - we don't need CD tools for this!"
   ]
  },
  {
   "cell_type": "markdown",
   "metadata": {
    "slideshow": {
     "slide_type": "skip"
    }
   },
   "source": [
    "## Cowboy"
   ]
  },
  {
   "cell_type": "markdown",
   "metadata": {
    "slideshow": {
     "slide_type": "subslide"
    }
   },
   "source": [
    "<img style=\"float: right; margin: 0px 15px 15px 0px;\" \n",
    "src=\"files/images/cowboy.jpg\" \n",
    "height=\"200\" width=\"300\" />\n",
    "Code in production!\n",
    "-------------------\n",
    "- imagine\n",
    "  - I've a great idea.\n",
    "- code\n",
    "  - ssh web_server.example.com\n",
    "  - nano server.py\n",
    "- Deploy\n",
    "  - sudo shutdown -r now"
   ]
  },
  {
   "cell_type": "markdown",
   "metadata": {
    "slideshow": {
     "slide_type": "subslide"
    }
   },
   "source": [
    "You may have experienced this."
   ]
  },
  {
   "cell_type": "markdown",
   "metadata": {
    "slideshow": {
     "slide_type": "fragment"
    }
   },
   "source": [
    "<sub><sub>It haunts my dreams.</sub></sub>"
   ]
  },
  {
   "cell_type": "markdown",
   "metadata": {
    "slideshow": {
     "slide_type": "subslide"
    }
   },
   "source": [
    "What do we need to add?"
   ]
  },
  {
   "cell_type": "markdown",
   "metadata": {
    "slideshow": {
     "slide_type": "fragment"
    }
   },
   "source": [
    "Version Control, Testing, Code Review "
   ]
  },
  {
   "cell_type": "markdown",
   "metadata": {
    "slideshow": {
     "slide_type": "skip"
    }
   },
   "source": [
    "## workflow"
   ]
  },
  {
   "cell_type": "markdown",
   "metadata": {
    "slideshow": {
     "slide_type": "subslide"
    }
   },
   "source": [
    "<img src=\"files/images/targetted_flow.png\" height=\"200\" width=\"800\" />"
   ]
  },
  {
   "cell_type": "markdown",
   "metadata": {
    "slideshow": {
     "slide_type": "subslide"
    }
   },
   "source": [
    "Enough daydreaming. Let's talk tools.\n",
    "<img style=\"float: right; margin: 0px 15px 15px 0px;\" \n",
    "src=\"files/images/toolbox.png\" \n",
    "height=\"200\" width=\"300\" />"
   ]
  },
  {
   "cell_type": "markdown",
   "metadata": {
    "slideshow": {
     "slide_type": "skip"
    }
   },
   "source": [
    "<!-- Other Tools -->\n",
    "<img src=\"files/images/not-appearing.jpg\" height=\"200\" width=\"800\" />\n"
   ]
  },
  {
   "cell_type": "markdown",
   "metadata": {
    "slideshow": {
     "slide_type": "skip"
    }
   },
   "source": [
    "# Docker"
   ]
  },
  {
   "cell_type": "markdown",
   "metadata": {
    "slideshow": {
     "slide_type": "slide"
    }
   },
   "source": [
    "<img style=\"float: left; margin: 0px 15px 15px 0px;\" \n",
    "src=\"files/images/docker.png\"\n",
    "height=\"400\" width=\"400\" />\n",
    "<img style=\"float: right; margin: 0px 15px 15px 0px;\" \n",
    "src=\"files/images/docker_star.jpg\"\n",
    "height=\"400\" width=\"400\" />"
   ]
  },
  {
   "cell_type": "markdown",
   "metadata": {
    "slideshow": {
     "slide_type": "fragment"
    }
   },
   "source": [
    "Applications can own their software and OS dependencies."
   ]
  },
  {
   "cell_type": "markdown",
   "metadata": {
    "slideshow": {
     "slide_type": "subslide"
    }
   },
   "source": [
    "Docker\n",
    "------"
   ]
  },
  {
   "cell_type": "markdown",
   "metadata": {
    "slideshow": {
     "slide_type": "fragment"
    }
   },
   "source": [
    "Don't conflate these concepts:"
   ]
  },
  {
   "cell_type": "markdown",
   "metadata": {
    "slideshow": {
     "slide_type": "fragment"
    }
   },
   "source": [
    "**Dockerfile**s, **image**s, & **container**s."
   ]
  },
  {
   "cell_type": "markdown",
   "metadata": {
    "slideshow": {
     "slide_type": "fragment"
    }
   },
   "source": [
    "<img style=\"float: right; margin: 0px 15px 15px 0px;\" \n",
    "src=\"files/images/George-Takei-oh-my.jpg\" \n",
    "height=\"200\" width=\"300\" />"
   ]
  },
  {
   "cell_type": "markdown",
   "metadata": {
    "slideshow": {
     "slide_type": "subslide"
    }
   },
   "source": [
    "Grok this!"
   ]
  },
  {
   "cell_type": "markdown",
   "metadata": {
    "slideshow": {
     "slide_type": "fragment"
    }
   },
   "source": [
    "<img src=\"files/images/docker_overview.png\"/>"
   ]
  },
  {
   "cell_type": "markdown",
   "metadata": {
    "slideshow": {
     "slide_type": "skip"
    }
   },
   "source": [
    "## Hello, world"
   ]
  },
  {
   "cell_type": "markdown",
   "metadata": {
    "slideshow": {
     "slide_type": "subslide"
    }
   },
   "source": [
    "A conical dive-right-in beginning."
   ]
  },
  {
   "cell_type": "code",
   "execution_count": 1,
   "metadata": {
    "collapsed": false,
    "slideshow": {
     "slide_type": "fragment"
    }
   },
   "outputs": [
    {
     "name": "stdout",
     "output_type": "stream",
     "text": [
      "Hello, world.\r\n"
     ]
    }
   ],
   "source": [
    "# Locally\n",
    "!echo Hello, world."
   ]
  },
  {
   "cell_type": "code",
   "execution_count": 2,
   "metadata": {
    "collapsed": false,
    "slideshow": {
     "slide_type": "fragment"
    }
   },
   "outputs": [
    {
     "name": "stdout",
     "output_type": "stream",
     "text": [
      "Hello, world.\r\n"
     ]
    }
   ],
   "source": [
    "# In a docker container\n",
    "!docker run ubuntu echo Hello, world."
   ]
  },
  {
   "cell_type": "markdown",
   "metadata": {
    "slideshow": {
     "slide_type": "subslide"
    }
   },
   "source": [
    "Let's split it into pieces."
   ]
  },
  {
   "cell_type": "code",
   "execution_count": 3,
   "metadata": {
    "collapsed": false,
    "slideshow": {
     "slide_type": "fragment"
    }
   },
   "outputs": [
    {
     "name": "stdout",
     "output_type": "stream",
     "text": [
      "Hello, world!\r\n"
     ]
    }
   ],
   "source": [
    "echo_command = \"echo Hello, world!\"\n",
    "image = 'ubuntu'\n",
    "!docker run $image $echo_command"
   ]
  },
  {
   "cell_type": "markdown",
   "metadata": {
    "collapsed": false,
    "slideshow": {
     "slide_type": "fragment"
    }
   },
   "source": [
    "Ubuntu represents just one example **image**."
   ]
  },
  {
   "cell_type": "markdown",
   "metadata": {
    "collapsed": false,
    "slideshow": {
     "slide_type": "subslide"
    }
   },
   "source": [
    "Over 15,000 different **image**s exist."
   ]
  },
  {
   "cell_type": "markdown",
   "metadata": {
    "collapsed": false,
    "slideshow": {
     "slide_type": "fragment"
    }
   },
   "source": [
    "Let's look at a few common **base image**s."
   ]
  },
  {
   "cell_type": "code",
   "execution_count": 4,
   "metadata": {
    "collapsed": true,
    "slideshow": {
     "slide_type": "fragment"
    }
   },
   "outputs": [],
   "source": [
    "some_base_images = ['fedora', 'ubuntu', 'debian', 'centos', 'busybox']"
   ]
  },
  {
   "cell_type": "markdown",
   "metadata": {
    "collapsed": false,
    "slideshow": {
     "slide_type": "fragment"
    }
   },
   "source": [
    "We can easily **pull** images from hub.docker.com using **docker pull**."
   ]
  },
  {
   "cell_type": "code",
   "execution_count": 5,
   "metadata": {
    "collapsed": false,
    "scrolled": false,
    "slideshow": {
     "slide_type": "fragment"
    }
   },
   "outputs": [
    {
     "name": "stdout",
     "output_type": "stream",
     "text": [
      "latest: Pulling from busybox\r\n",
      "\u001b[0B\r\n",
      "\u001b[0A\u001b[2K\r",
      "cf2616975b4a: Already exists \r",
      "\u001b[0B\r\n",
      "\u001b[0A\u001b[2K\r",
      "6ce2e90b0bc7: Already exists \r",
      "\u001b[0B\r\n",
      "\u001b[0A\u001b[2K\r",
      "8c2e06607696: Already exists \r",
      "\u001b[0B\u001b[1A\u001b[2K\r",
      "8c2e06607696: Already exists \r",
      "\u001b[1BDigest: sha256:38a203e1986cf79639cfb9b2e1d6e773de84002feea2d4eb006b52004ee8502d\r\n",
      "Status: Image is up to date for busybox:latest\r\n"
     ]
    }
   ],
   "source": [
    "!docker pull busybox"
   ]
  },
  {
   "cell_type": "markdown",
   "metadata": {
    "collapsed": false,
    "slideshow": {
     "slide_type": "subslide"
    }
   },
   "source": [
    "We needn't _explicitly_ **pull** an **image** before **run**ning it."
   ]
  },
  {
   "cell_type": "markdown",
   "metadata": {
    "collapsed": false,
    "slideshow": {
     "slide_type": "fragment"
    }
   },
   "source": [
    "Let's run our echo command in a few different **container**s."
   ]
  },
  {
   "cell_type": "code",
   "execution_count": 6,
   "metadata": {
    "collapsed": false,
    "slideshow": {
     "slide_type": "fragment"
    }
   },
   "outputs": [
    {
     "name": "stdout",
     "output_type": "stream",
     "text": [
      "Hello, world!\n",
      "Hello, world!\n",
      "Hello, world!\n",
      "Hello, world!\n",
      "Hello, world!\n"
     ]
    }
   ],
   "source": [
    "for image in some_base_images:\n",
    "    !docker run $image $echo_command"
   ]
  },
  {
   "cell_type": "markdown",
   "metadata": {
    "collapsed": false,
    "slideshow": {
     "slide_type": "fragment"
    }
   },
   "source": [
    "Boring - they all look the same."
   ]
  },
  {
   "cell_type": "markdown",
   "metadata": {
    "slideshow": {
     "slide_type": "skip"
    }
   },
   "source": [
    "## /etc/issue"
   ]
  },
  {
   "cell_type": "markdown",
   "metadata": {
    "collapsed": false,
    "slideshow": {
     "slide_type": "subslide"
    }
   },
   "source": [
    "Let's see the differences between these containers."
   ]
  },
  {
   "cell_type": "code",
   "execution_count": 7,
   "metadata": {
    "collapsed": false,
    "slideshow": {
     "slide_type": "fragment"
    }
   },
   "outputs": [
    {
     "name": "stdout",
     "output_type": "stream",
     "text": [
      "fedora: Fedora release 22 (Twenty Two)Kernel \\r on an \\m (\\l)\n",
      "ubuntu: Ubuntu 14.04.2 LTS \\n \\l\n",
      "debian: Debian GNU/Linux 8 \\n \\l\n",
      "centos: \\SKernel \\r on an \\m\n",
      "busybox: Welcome to Buildroot\n"
     ]
    }
   ],
   "source": [
    "for image in some_base_images:\n",
    "    print(image + ': ', end='')\n",
    "    issue = !docker run $image cat /etc/issue\n",
    "    print(''.join(issue))"
   ]
  },
  {
   "cell_type": "markdown",
   "metadata": {
    "collapsed": false,
    "slideshow": {
     "slide_type": "fragment"
    }
   },
   "source": [
    "Better, but still just an echo."
   ]
  },
  {
   "cell_type": "markdown",
   "metadata": {
    "slideshow": {
     "slide_type": "skip"
    }
   },
   "source": [
    "## get_ext_ip"
   ]
  },
  {
   "cell_type": "markdown",
   "metadata": {
    "collapsed": false,
    "slideshow": {
     "slide_type": "subslide"
    }
   },
   "source": [
    "Let's find out our external IP Address."
   ]
  },
  {
   "cell_type": "markdown",
   "metadata": {
    "collapsed": false,
    "slideshow": {
     "slide_type": "fragment"
    }
   },
   "source": [
    "First, define a command and try it locally."
   ]
  },
  {
   "cell_type": "code",
   "execution_count": 8,
   "metadata": {
    "collapsed": false,
    "slideshow": {
     "slide_type": "fragment"
    }
   },
   "outputs": [
    {
     "name": "stdout",
     "output_type": "stream",
     "text": [
      " -b, --cookie STRING/FILE  String or file to read cookies from (H)\r\n",
      " -c, --cookie-jar FILE  Write cookies to this file after operation (H)\r\n",
      " -j, --junk-session-cookies Ignore session cookies read from file (H)\r\n"
     ]
    }
   ],
   "source": [
    "#get_ext_ip = 'curl ifconfig.me' # Skipping due to Slow WIFI!\n",
    "get_ext_ip = 'curl --help | grep cookie'\n",
    "!$get_ext_ip"
   ]
  },
  {
   "cell_type": "markdown",
   "metadata": {
    "collapsed": false,
    "slideshow": {
     "slide_type": "subslide"
    }
   },
   "source": [
    "Now let's try it inside a docker container."
   ]
  },
  {
   "cell_type": "code",
   "execution_count": 9,
   "metadata": {
    "collapsed": false,
    "slideshow": {
     "slide_type": "fragment"
    }
   },
   "outputs": [
    {
     "name": "stdout",
     "output_type": "stream",
     "text": [
      "exec: \"curl\": executable file not found in $PATH\n",
      "Error response from daemon: Cannot start container 9384fdf0f3283ed897d357ea2714f0ac2a91135cd00651a96fe350eb6f75e36d: [8] System error: exec: \"curl\": executable file not found in $PATH\n"
     ]
    }
   ],
   "source": [
    "image = 'ubuntu'\n",
    "!docker run $image $get_ext_ip"
   ]
  },
  {
   "cell_type": "markdown",
   "metadata": {
    "collapsed": false,
    "slideshow": {
     "slide_type": "fragment"
    }
   },
   "source": [
    "Why didn't this work?"
   ]
  },
  {
   "cell_type": "markdown",
   "metadata": {
    "collapsed": false,
    "slideshow": {
     "slide_type": "fragment"
    }
   },
   "source": [
    "Our first failed dependency! <p> We don't have curl installed within our **container**."
   ]
  },
  {
   "cell_type": "markdown",
   "metadata": {
    "collapsed": false,
    "slideshow": {
     "slide_type": "fragment"
    }
   },
   "source": [
    "So - let's install it!"
   ]
  },
  {
   "cell_type": "markdown",
   "metadata": {
    "slideshow": {
     "slide_type": "skip"
    }
   },
   "source": [
    "### Don't conflate concepts."
   ]
  },
  {
   "cell_type": "markdown",
   "metadata": {
    "collapsed": false,
    "slideshow": {
     "slide_type": "subslide"
    }
   },
   "source": [
    "Our **container** runs Ubuntu and Ubuntu uses apt-get."
   ]
  },
  {
   "cell_type": "markdown",
   "metadata": {
    "slideshow": {
     "slide_type": "fragment"
    }
   },
   "source": [
    "We know how to run commands in our **container**."
   ]
  },
  {
   "cell_type": "markdown",
   "metadata": {
    "collapsed": false,
    "slideshow": {
     "slide_type": "fragment"
    }
   },
   "source": [
    "So let's just do that."
   ]
  },
  {
   "cell_type": "code",
   "execution_count": 10,
   "metadata": {
    "collapsed": false,
    "scrolled": true,
    "slideshow": {
     "slide_type": "subslide"
    }
   },
   "outputs": [
    {
     "name": "stdout",
     "output_type": "stream",
     "text": [
      "Reading package lists...\n",
      "Building dependency tree...\n",
      "Reading state information...\n",
      "The following extra packages will be installed:\n",
      "  ca-certificates krb5-locales libasn1-8-heimdal libcurl3 libgssapi-krb5-2\n",
      "  libgssapi3-heimdal libhcrypto4-heimdal libheimbase1-heimdal\n",
      "  libheimntlm0-heimdal libhx509-5-heimdal libidn11 libk5crypto3 libkeyutils1\n",
      "  libkrb5-26-heimdal libkrb5-3 libkrb5support0 libldap-2.4-2\n",
      "  libroken18-heimdal librtmp0 libsasl2-2 libsasl2-modules libsasl2-modules-db\n",
      "  libwind0-heimdal openssl\n",
      "Suggested packages:\n",
      "  krb5-doc krb5-user libsasl2-modules-otp libsasl2-modules-ldap\n",
      "  libsasl2-modules-sql libsasl2-modules-gssapi-mit\n",
      "  libsasl2-modules-gssapi-heimdal\n",
      "The following NEW packages will be installed:\n",
      "  ca-certificates curl krb5-locales libasn1-8-heimdal libcurl3\n",
      "  libgssapi-krb5-2 libgssapi3-heimdal libhcrypto4-heimdal libheimbase1-heimdal\n",
      "  libheimntlm0-heimdal libhx509-5-heimdal libidn11 libk5crypto3 libkeyutils1\n",
      "  libkrb5-26-heimdal libkrb5-3 libkrb5support0 libldap-2.4-2\n",
      "  libroken18-heimdal librtmp0 libsasl2-2 libsasl2-modules libsasl2-modules-db\n",
      "  libwind0-heimdal openssl\n",
      "0 upgraded, 25 newly installed, 0 to remove and 0 not upgraded.\n",
      "Need to get 2668 kB of archives.\n",
      "After this operation, 11.6 MB of additional disk space will be used.\n",
      "Get:1 http://archive.ubuntu.com/ubuntu/ trusty/main libroken18-heimdal amd64 1.6~git20131207+dfsg-1ubuntu1 [40.0 kB]\n",
      "Get:2 http://archive.ubuntu.com/ubuntu/ trusty/main libasn1-8-heimdal amd64 1.6~git20131207+dfsg-1ubuntu1 [160 kB]\n",
      "Get:3 http://archive.ubuntu.com/ubuntu/ trusty/main libkrb5support0 amd64 1.12+dfsg-2ubuntu4 [29.5 kB]\n",
      "Get:4 http://archive.ubuntu.com/ubuntu/ trusty/main libk5crypto3 amd64 1.12+dfsg-2ubuntu4 [79.5 kB]\n",
      "Get:5 http://archive.ubuntu.com/ubuntu/ trusty/main libkeyutils1 amd64 1.5.6-1 [7318 B]\n",
      "Get:6 http://archive.ubuntu.com/ubuntu/ trusty/main libkrb5-3 amd64 1.12+dfsg-2ubuntu4 [262 kB]\n",
      "Get:7 http://archive.ubuntu.com/ubuntu/ trusty/main libgssapi-krb5-2 amd64 1.12+dfsg-2ubuntu4 [113 kB]\n",
      "Get:8 http://archive.ubuntu.com/ubuntu/ trusty/main libhcrypto4-heimdal amd64 1.6~git20131207+dfsg-1ubuntu1 [84.0 kB]\n",
      "Get:9 http://archive.ubuntu.com/ubuntu/ trusty/main libheimbase1-heimdal amd64 1.6~git20131207+dfsg-1ubuntu1 [29.0 kB]\n",
      "Get:10 http://archive.ubuntu.com/ubuntu/ trusty/main libwind0-heimdal amd64 1.6~git20131207+dfsg-1ubuntu1 [47.8 kB]\n",
      "Get:11 http://archive.ubuntu.com/ubuntu/ trusty/main libhx509-5-heimdal amd64 1.6~git20131207+dfsg-1ubuntu1 [104 kB]\n",
      "Get:12 http://archive.ubuntu.com/ubuntu/ trusty/main libkrb5-26-heimdal amd64 1.6~git20131207+dfsg-1ubuntu1 [197 kB]\n",
      "Get:13 http://archive.ubuntu.com/ubuntu/ trusty/main libheimntlm0-heimdal amd64 1.6~git20131207+dfsg-1ubuntu1 [15.2 kB]\n",
      "Get:14 http://archive.ubuntu.com/ubuntu/ trusty/main libgssapi3-heimdal amd64 1.6~git20131207+dfsg-1ubuntu1 [90.1 kB]\n",
      "Get:15 http://archive.ubuntu.com/ubuntu/ trusty/main libidn11 amd64 1.28-1ubuntu2 [93.0 kB]\n",
      "Get:16 http://archive.ubuntu.com/ubuntu/ trusty/main libsasl2-modules-db amd64 2.1.25.dfsg1-17build1 [14.9 kB]\n",
      "Get:17 http://archive.ubuntu.com/ubuntu/ trusty/main libsasl2-2 amd64 2.1.25.dfsg1-17build1 [56.5 kB]\n",
      "Get:18 http://archive.ubuntu.com/ubuntu/ trusty/main libldap-2.4-2 amd64 2.4.31-1+nmu2ubuntu8 [154 kB]\n",
      "Get:19 http://archive.ubuntu.com/ubuntu/ trusty/main librtmp0 amd64 2.4+20121230.gitdf6c518-1 [57.5 kB]\n",
      "Get:20 http://archive.ubuntu.com/ubuntu/ trusty/main libcurl3 amd64 7.35.0-1ubuntu2 [172 kB]\n",
      "Get:21 http://archive.ubuntu.com/ubuntu/ trusty/main openssl amd64 1.0.1f-1ubuntu2 [489 kB]\n",
      "Get:22 http://archive.ubuntu.com/ubuntu/ trusty/main ca-certificates all 20130906ubuntu2 [175 kB]\n",
      "Get:23 http://archive.ubuntu.com/ubuntu/ trusty/main krb5-locales all 1.12+dfsg-2ubuntu4 [12.3 kB]\n",
      "Get:24 http://archive.ubuntu.com/ubuntu/ trusty/main libsasl2-modules amd64 2.1.25.dfsg1-17build1 [64.3 kB]\n",
      "Get:25 http://archive.ubuntu.com/ubuntu/ trusty/main curl amd64 7.35.0-1ubuntu2 [123 kB]\n",
      "debconf: unable to initialize frontend: Dialog\n",
      "debconf: (TERM is not set, so the dialog frontend is not usable.)\n",
      "debconf: falling back to frontend: Readline\n",
      "debconf: unable to initialize frontend: Readline\n",
      "debconf: (This frontend requires a controlling tty.)\n",
      "debconf: falling back to frontend: Teletype\n",
      "dpkg-preconfigure: unable to re-open stdin: \n",
      "Fetched 2668 kB in 2s (926 kB/s)\n",
      "Selecting previously unselected package libroken18-heimdal:amd64.\n",
      "(Reading database ... 11528 files and directories currently installed.)\n",
      "Preparing to unpack .../libroken18-heimdal_1.6~git20131207+dfsg-1ubuntu1_amd64.deb ...\n",
      "Unpacking libroken18-heimdal:amd64 (1.6~git20131207+dfsg-1ubuntu1) ...\n",
      "Selecting previously unselected package libasn1-8-heimdal:amd64.\n",
      "Preparing to unpack .../libasn1-8-heimdal_1.6~git20131207+dfsg-1ubuntu1_amd64.deb ...\n",
      "Unpacking libasn1-8-heimdal:amd64 (1.6~git20131207+dfsg-1ubuntu1) ...\n",
      "Selecting previously unselected package libkrb5support0:amd64.\n",
      "Preparing to unpack .../libkrb5support0_1.12+dfsg-2ubuntu4_amd64.deb ...\n",
      "Unpacking libkrb5support0:amd64 (1.12+dfsg-2ubuntu4) ...\n",
      "Selecting previously unselected package libk5crypto3:amd64.\n",
      "Preparing to unpack .../libk5crypto3_1.12+dfsg-2ubuntu4_amd64.deb ...\n",
      "Unpacking libk5crypto3:amd64 (1.12+dfsg-2ubuntu4) ...\n",
      "Selecting previously unselected package libkeyutils1:amd64.\n",
      "Preparing to unpack .../libkeyutils1_1.5.6-1_amd64.deb ...\n",
      "Unpacking libkeyutils1:amd64 (1.5.6-1) ...\n",
      "Selecting previously unselected package libkrb5-3:amd64.\n",
      "Preparing to unpack .../libkrb5-3_1.12+dfsg-2ubuntu4_amd64.deb ...\n",
      "Unpacking libkrb5-3:amd64 (1.12+dfsg-2ubuntu4) ...\n",
      "Selecting previously unselected package libgssapi-krb5-2:amd64.\n",
      "Preparing to unpack .../libgssapi-krb5-2_1.12+dfsg-2ubuntu4_amd64.deb ...\n",
      "Unpacking libgssapi-krb5-2:amd64 (1.12+dfsg-2ubuntu4) ...\n",
      "Selecting previously unselected package libhcrypto4-heimdal:amd64.\n",
      "Preparing to unpack .../libhcrypto4-heimdal_1.6~git20131207+dfsg-1ubuntu1_amd64.deb ...\n",
      "Unpacking libhcrypto4-heimdal:amd64 (1.6~git20131207+dfsg-1ubuntu1) ...\n",
      "Selecting previously unselected package libheimbase1-heimdal:amd64.\n",
      "Preparing to unpack .../libheimbase1-heimdal_1.6~git20131207+dfsg-1ubuntu1_amd64.deb ...\n",
      "Unpacking libheimbase1-heimdal:amd64 (1.6~git20131207+dfsg-1ubuntu1) ...\n",
      "Selecting previously unselected package libwind0-heimdal:amd64.\n",
      "Preparing to unpack .../libwind0-heimdal_1.6~git20131207+dfsg-1ubuntu1_amd64.deb ...\n",
      "Unpacking libwind0-heimdal:amd64 (1.6~git20131207+dfsg-1ubuntu1) ...\n",
      "Selecting previously unselected package libhx509-5-heimdal:amd64.\n",
      "Preparing to unpack .../libhx509-5-heimdal_1.6~git20131207+dfsg-1ubuntu1_amd64.deb ...\n",
      "Unpacking libhx509-5-heimdal:amd64 (1.6~git20131207+dfsg-1ubuntu1) ...\n",
      "Selecting previously unselected package libkrb5-26-heimdal:amd64.\n",
      "Preparing to unpack .../libkrb5-26-heimdal_1.6~git20131207+dfsg-1ubuntu1_amd64.deb ...\n",
      "Unpacking libkrb5-26-heimdal:amd64 (1.6~git20131207+dfsg-1ubuntu1) ...\n",
      "Selecting previously unselected package libheimntlm0-heimdal:amd64.\n",
      "Preparing to unpack .../libheimntlm0-heimdal_1.6~git20131207+dfsg-1ubuntu1_amd64.deb ...\n",
      "Unpacking libheimntlm0-heimdal:amd64 (1.6~git20131207+dfsg-1ubuntu1) ...\n",
      "Selecting previously unselected package libgssapi3-heimdal:amd64.\n",
      "Preparing to unpack .../libgssapi3-heimdal_1.6~git20131207+dfsg-1ubuntu1_amd64.deb ...\n",
      "Unpacking libgssapi3-heimdal:amd64 (1.6~git20131207+dfsg-1ubuntu1) ...\n",
      "Selecting previously unselected package libidn11:amd64.\n",
      "Preparing to unpack .../libidn11_1.28-1ubuntu2_amd64.deb ...\n",
      "Unpacking libidn11:amd64 (1.28-1ubuntu2) ...\n",
      "Selecting previously unselected package libsasl2-modules-db:amd64.\n",
      "Preparing to unpack .../libsasl2-modules-db_2.1.25.dfsg1-17build1_amd64.deb ...\n",
      "Unpacking libsasl2-modules-db:amd64 (2.1.25.dfsg1-17build1) ...\n",
      "Selecting previously unselected package libsasl2-2:amd64.\n",
      "Preparing to unpack .../libsasl2-2_2.1.25.dfsg1-17build1_amd64.deb ...\n",
      "Unpacking libsasl2-2:amd64 (2.1.25.dfsg1-17build1) ...\n",
      "Selecting previously unselected package libldap-2.4-2:amd64.\n",
      "Preparing to unpack .../libldap-2.4-2_2.4.31-1+nmu2ubuntu8_amd64.deb ...\n",
      "Unpacking libldap-2.4-2:amd64 (2.4.31-1+nmu2ubuntu8) ...\n",
      "Selecting previously unselected package librtmp0:amd64.\n",
      "Preparing to unpack .../librtmp0_2.4+20121230.gitdf6c518-1_amd64.deb ...\n",
      "Unpacking librtmp0:amd64 (2.4+20121230.gitdf6c518-1) ...\n",
      "Selecting previously unselected package libcurl3:amd64.\n",
      "Preparing to unpack .../libcurl3_7.35.0-1ubuntu2_amd64.deb ...\n",
      "Unpacking libcurl3:amd64 (7.35.0-1ubuntu2) ...\n",
      "Selecting previously unselected package openssl.\n",
      "Preparing to unpack .../openssl_1.0.1f-1ubuntu2_amd64.deb ...\n",
      "Unpacking openssl (1.0.1f-1ubuntu2) ...\n",
      "Selecting previously unselected package ca-certificates.\n",
      "Preparing to unpack .../ca-certificates_20130906ubuntu2_all.deb ...\n",
      "Unpacking ca-certificates (20130906ubuntu2) ...\n",
      "Selecting previously unselected package krb5-locales.\n",
      "Preparing to unpack .../krb5-locales_1.12+dfsg-2ubuntu4_all.deb ...\n",
      "Unpacking krb5-locales (1.12+dfsg-2ubuntu4) ...\n",
      "Selecting previously unselected package libsasl2-modules:amd64.\n",
      "Preparing to unpack .../libsasl2-modules_2.1.25.dfsg1-17build1_amd64.deb ...\n",
      "Unpacking libsasl2-modules:amd64 (2.1.25.dfsg1-17build1) ...\n",
      "Selecting previously unselected package curl.\n",
      "Preparing to unpack .../curl_7.35.0-1ubuntu2_amd64.deb ...\n",
      "Unpacking curl (7.35.0-1ubuntu2) ...\n",
      "Setting up libroken18-heimdal:amd64 (1.6~git20131207+dfsg-1ubuntu1) ...\n",
      "Setting up libasn1-8-heimdal:amd64 (1.6~git20131207+dfsg-1ubuntu1) ...\n",
      "Setting up libkrb5support0:amd64 (1.12+dfsg-2ubuntu4) ...\n",
      "Setting up libk5crypto3:amd64 (1.12+dfsg-2ubuntu4) ...\n",
      "Setting up libkeyutils1:amd64 (1.5.6-1) ...\n",
      "Setting up libkrb5-3:amd64 (1.12+dfsg-2ubuntu4) ...\n",
      "Setting up libgssapi-krb5-2:amd64 (1.12+dfsg-2ubuntu4) ...\n",
      "Setting up libhcrypto4-heimdal:amd64 (1.6~git20131207+dfsg-1ubuntu1) ...\n",
      "Setting up libheimbase1-heimdal:amd64 (1.6~git20131207+dfsg-1ubuntu1) ...\n",
      "Setting up libwind0-heimdal:amd64 (1.6~git20131207+dfsg-1ubuntu1) ...\n",
      "Setting up libhx509-5-heimdal:amd64 (1.6~git20131207+dfsg-1ubuntu1) ...\n",
      "Setting up libkrb5-26-heimdal:amd64 (1.6~git20131207+dfsg-1ubuntu1) ...\n",
      "Setting up libheimntlm0-heimdal:amd64 (1.6~git20131207+dfsg-1ubuntu1) ...\n",
      "Setting up libgssapi3-heimdal:amd64 (1.6~git20131207+dfsg-1ubuntu1) ...\n",
      "Setting up libidn11:amd64 (1.28-1ubuntu2) ...\n",
      "Setting up libsasl2-modules-db:amd64 (2.1.25.dfsg1-17build1) ...\n",
      "Setting up libsasl2-2:amd64 (2.1.25.dfsg1-17build1) ...\n",
      "Setting up libldap-2.4-2:amd64 (2.4.31-1+nmu2ubuntu8) ...\n",
      "Setting up librtmp0:amd64 (2.4+20121230.gitdf6c518-1) ...\n",
      "Setting up libcurl3:amd64 (7.35.0-1ubuntu2) ...\n",
      "Setting up openssl (1.0.1f-1ubuntu2) ...\n",
      "Setting up ca-certificates (20130906ubuntu2) ...\n",
      "debconf: unable to initialize frontend: Dialog\n",
      "debconf: (TERM is not set, so the dialog frontend is not usable.)\n",
      "debconf: falling back to frontend: Readline\n",
      "debconf: unable to initialize frontend: Readline\n",
      "debconf: (This frontend requires a controlling tty.)\n",
      "debconf: falling back to frontend: Teletype\n",
      "Setting up krb5-locales (1.12+dfsg-2ubuntu4) ...\n",
      "Setting up libsasl2-modules:amd64 (2.1.25.dfsg1-17build1) ...\n",
      "Setting up curl (7.35.0-1ubuntu2) ...\n",
      "Processing triggers for libc-bin (2.19-0ubuntu6.6) ...\n",
      "Processing triggers for ca-certificates (20130906ubuntu2) ...\n",
      "Updating certificates in /etc/ssl/certs... 164 added, 0 removed; done.\n",
      "Running hooks in /etc/ca-certificates/update.d....done.\n"
     ]
    }
   ],
   "source": [
    "image = 'ubuntu:latest'\n",
    "install_curl = 'apt-get install -y curl'\n",
    "container = 'my_container'\n",
    "!docker run --name $container $image $install_curl"
   ]
  },
  {
   "cell_type": "markdown",
   "metadata": {
    "slideshow": {
     "slide_type": "subslide"
    }
   },
   "source": [
    "Now we can try to run it again."
   ]
  },
  {
   "cell_type": "code",
   "execution_count": 11,
   "metadata": {
    "collapsed": false,
    "slideshow": {
     "slide_type": "fragment"
    }
   },
   "outputs": [
    {
     "name": "stdout",
     "output_type": "stream",
     "text": [
      "exec: \"curl\": executable file not found in $PATH\n",
      "Error response from daemon: Cannot start container 788079e717a83550fb468e302bcc58dd9541d9c796f1ff33a5cc643e67e8096f: [8] System error: exec: \"curl\": executable file not found in $PATH\n"
     ]
    }
   ],
   "source": [
    "image = 'ubuntu'\n",
    "!docker run $image $get_ext_ip"
   ]
  },
  {
   "cell_type": "markdown",
   "metadata": {
    "collapsed": false,
    "slideshow": {
     "slide_type": "fragment"
    }
   },
   "source": [
    "What gives?"
   ]
  },
  {
   "cell_type": "markdown",
   "metadata": {
    "collapsed": false,
    "slideshow": {
     "slide_type": "fragment"
    }
   },
   "source": [
    "Don't conflate **container**s & **image**s.\n",
    "\n",
    "**docker run** creates a **container** from an **image**."
   ]
  },
  {
   "cell_type": "markdown",
   "metadata": {
    "collapsed": false,
    "slideshow": {
     "slide_type": "fragment"
    }
   },
   "source": [
    "So let's build an **image**!"
   ]
  },
  {
   "cell_type": "markdown",
   "metadata": {
    "collapsed": false,
    "slideshow": {
     "slide_type": "subslide"
    }
   },
   "source": [
    "We've 2 ways to build an **image**:\n",
    " - via **docker commit**\n",
    " - via **Dockerfile**"
   ]
  },
  {
   "cell_type": "markdown",
   "metadata": {
    "collapsed": false,
    "slideshow": {
     "slide_type": "fragment"
    }
   },
   "source": [
    "We'll examine both."
   ]
  },
  {
   "cell_type": "markdown",
   "metadata": {
    "slideshow": {
     "slide_type": "skip"
    }
   },
   "source": [
    "### via commit"
   ]
  },
  {
   "cell_type": "markdown",
   "metadata": {
    "collapsed": false,
    "slideshow": {
     "slide_type": "subslide"
    }
   },
   "source": [
    "**docker commit** turns a **container** into an **image**."
   ]
  },
  {
   "cell_type": "markdown",
   "metadata": {
    "collapsed": false,
    "slideshow": {
     "slide_type": "fragment"
    }
   },
   "source": [
    "So we'll need a **container**."
   ]
  },
  {
   "cell_type": "markdown",
   "metadata": {
    "collapsed": false,
    "slideshow": {
     "slide_type": "subslide"
    }
   },
   "source": [
    "We've started a few containers.\n",
    "<p>\n",
    "We can see them via **docker ps**."
   ]
  },
  {
   "cell_type": "code",
   "execution_count": 12,
   "metadata": {
    "collapsed": false,
    "slideshow": {
     "slide_type": "fragment"
    }
   },
   "outputs": [
    {
     "name": "stdout",
     "output_type": "stream",
     "text": [
      "CONTAINER ID        IMAGE               COMMAND             CREATED             STATUS              PORTS                NAMES\r\n",
      "9d3ac7a7309f        web:20150629-1800   \"/app/web.py\"       20 minutes ago      Up 20 minutes       0.0.0.0:80->80/tcp   app_web_1           \r\n"
     ]
    }
   ],
   "source": [
    "!docker ps"
   ]
  },
  {
   "cell_type": "markdown",
   "metadata": {
    "collapsed": false,
    "slideshow": {
     "slide_type": "fragment"
    }
   },
   "source": [
    "Why don't we see any?"
   ]
  },
  {
   "cell_type": "markdown",
   "metadata": {
    "collapsed": false,
    "slideshow": {
     "slide_type": "fragment"
    }
   },
   "source": [
    "Don't forget '-a'."
   ]
  },
  {
   "cell_type": "markdown",
   "metadata": {
    "collapsed": false,
    "slideshow": {
     "slide_type": "subslide"
    }
   },
   "source": [
    "By default **docker ps** only shows _running_ containers.\n",
    "<p>\n",
    "We can add -a to see _all_ containers."
   ]
  },
  {
   "cell_type": "code",
   "execution_count": 13,
   "metadata": {
    "collapsed": false,
    "slideshow": {
     "slide_type": "fragment"
    }
   },
   "outputs": [
    {
     "name": "stdout",
     "output_type": "stream",
     "text": [
      "CONTAINER ID        IMAGE               COMMAND                CREATED              STATUS                          PORTS                NAMES\r\n",
      "788079e717a8        ubuntu              \"curl --help\"          About a minute ago                                                        sleepy_heisenberg    \r\n",
      "f052cfb8f121        ubuntu:latest       \"apt-get install -y    About a minute ago   Exited (0) About a minute ago                        my_container         \r\n",
      "9384fdf0f328        ubuntu              \"curl --help\"          About a minute ago                                                        sick_sammet          \r\n",
      "139bc48328a0        busybox             \"cat /etc/issue\"       2 minutes ago        Exited (0) 2 minutes ago                             ecstatic_rosalind    \r\n",
      "2c48b35c6d94        centos              \"cat /etc/issue\"       2 minutes ago        Exited (0) 2 minutes ago                             distracted_meitner   \r\n",
      "bf0d4e68ba92        debian              \"cat /etc/issue\"       2 minutes ago        Exited (0) 2 minutes ago                             stupefied_pasteur    \r\n",
      "a24e08991e35        ubuntu              \"cat /etc/issue\"       2 minutes ago        Exited (0) 2 minutes ago                             evil_engelbart       \r\n",
      "cd5dbb9fe2f7        fedora              \"cat /etc/issue\"       2 minutes ago        Exited (0) 2 minutes ago                             sick_kirch           \r\n",
      "6c2a0a8b95d7        busybox             \"echo Hello, world!\"   2 minutes ago        Exited (0) 2 minutes ago                             evil_lumiere         \r\n",
      "898757a22487        centos              \"echo Hello, world!\"   2 minutes ago        Exited (0) 2 minutes ago                             cranky_almeida       \r\n",
      "6fb746ff4889        debian              \"echo Hello, world!\"   2 minutes ago        Exited (0) 2 minutes ago                             cranky_carson        \r\n",
      "d40cf6702b76        ubuntu              \"echo Hello, world!\"   2 minutes ago        Exited (0) 2 minutes ago                             cocky_bell           \r\n",
      "2bf6c989017a        fedora              \"echo Hello, world!\"   2 minutes ago        Exited (0) 2 minutes ago                             tender_ptolemy       \r\n",
      "252b9ee1f690        ubuntu              \"echo Hello, world!\"   3 minutes ago        Exited (0) 3 minutes ago                             boring_sammet        \r\n",
      "cc0cb8d3c362        ubuntu              \"echo Hello, world.\"   3 minutes ago        Exited (0) 3 minutes ago                             ecstatic_hypatia     \r\n",
      "9d3ac7a7309f        web:20150629-1800   \"/app/web.py\"          20 minutes ago       Up 20 minutes                   0.0.0.0:80->80/tcp   app_web_1            \r\n"
     ]
    }
   ],
   "source": [
    "# show _all_ containers.\n",
    "!docker ps -a"
   ]
  },
  {
   "cell_type": "markdown",
   "metadata": {
    "collapsed": false,
    "slideshow": {
     "slide_type": "subslide"
    }
   },
   "source": [
    "We named our container earlier."
   ]
  },
  {
   "cell_type": "code",
   "execution_count": 14,
   "metadata": {
    "collapsed": false,
    "slideshow": {
     "slide_type": "fragment"
    }
   },
   "outputs": [
    {
     "data": {
      "text/plain": [
       "'my_container'"
      ]
     },
     "execution_count": 14,
     "metadata": {},
     "output_type": "execute_result"
    }
   ],
   "source": [
    "container"
   ]
  },
  {
   "cell_type": "code",
   "execution_count": 15,
   "metadata": {
    "collapsed": false,
    "slideshow": {
     "slide_type": "fragment"
    }
   },
   "outputs": [
    {
     "name": "stdout",
     "output_type": "stream",
     "text": [
      "f052cfb8f121        ubuntu:latest       \"apt-get install -y    About a minute ago   Exited (0) About a minute ago                        my_container         \r\n"
     ]
    }
   ],
   "source": [
    "# show only our container.\n",
    "!docker ps -a | grep $container"
   ]
  },
  {
   "cell_type": "markdown",
   "metadata": {
    "collapsed": false,
    "slideshow": {
     "slide_type": "subslide"
    }
   },
   "source": [
    "Let's **docker commit** our **container** into an **image**. "
   ]
  },
  {
   "cell_type": "code",
   "execution_count": 16,
   "metadata": {
    "collapsed": false,
    "slideshow": {
     "slide_type": "fragment"
    }
   },
   "outputs": [
    {
     "name": "stdout",
     "output_type": "stream",
     "text": [
      "49431787dad2a54bb94db865f0383ce09785ae658c7968db254c4d7383dc751b\r\n"
     ]
    }
   ],
   "source": [
    "image = 'ubuntu_with_curl_via_commit'\n",
    "!docker commit $container $image"
   ]
  },
  {
   "cell_type": "markdown",
   "metadata": {
    "collapsed": false,
    "slideshow": {
     "slide_type": "fragment"
    }
   },
   "source": [
    "**docker commit** outputs the ID of the **image** it created. <p>We'll ignore it and just use the name we assigned to it."
   ]
  },
  {
   "cell_type": "markdown",
   "metadata": {
    "collapsed": false,
    "slideshow": {
     "slide_type": "subslide"
    }
   },
   "source": [
    "As we've finished with them, let's clean up all our containers."
   ]
  },
  {
   "cell_type": "code",
   "execution_count": 17,
   "metadata": {
    "collapsed": false,
    "slideshow": {
     "slide_type": "fragment"
    }
   },
   "outputs": [
    {
     "name": "stdout",
     "output_type": "stream",
     "text": [
      "788079e717a8\n",
      "f052cfb8f121\n",
      "9384fdf0f328\n",
      "139bc48328a0\n",
      "2c48b35c6d94\n",
      "bf0d4e68ba92\n",
      "a24e08991e35\n",
      "cd5dbb9fe2f7\n",
      "6c2a0a8b95d7\n",
      "898757a22487\n",
      "6fb746ff4889\n",
      "d40cf6702b76\n",
      "2bf6c989017a\n",
      "252b9ee1f690\n",
      "cc0cb8d3c362\n",
      "9d3ac7a7309f\n",
      "788079e717a8\n",
      "f052cfb8f121\n",
      "9384fdf0f328\n",
      "139bc48328a0\n",
      "2c48b35c6d94\n",
      "bf0d4e68ba92\n",
      "a24e08991e35\n",
      "cd5dbb9fe2f7\n",
      "6c2a0a8b95d7\n",
      "898757a22487\n",
      "6fb746ff4889\n",
      "d40cf6702b76\n",
      "2bf6c989017a\n",
      "252b9ee1f690\n",
      "cc0cb8d3c362\n",
      "9d3ac7a7309f\n"
     ]
    }
   ],
   "source": [
    "# stop all containers\n",
    "!docker stop $(docker ps -a -q)\n",
    "# remove all containers\n",
    "!docker rm $(docker ps -a -q)"
   ]
  },
  {
   "cell_type": "markdown",
   "metadata": {
    "collapsed": false,
    "slideshow": {
     "slide_type": "skip"
    }
   },
   "source": [
    "### image size check (commit)"
   ]
  },
  {
   "cell_type": "markdown",
   "metadata": {
    "collapsed": false,
    "slideshow": {
     "slide_type": "subslide"
    }
   },
   "source": [
    "Let's review the image we just created via **docker commit**..."
   ]
  },
  {
   "cell_type": "code",
   "execution_count": 18,
   "metadata": {
    "collapsed": false,
    "slideshow": {
     "slide_type": "fragment"
    }
   },
   "outputs": [
    {
     "name": "stdout",
     "output_type": "stream",
     "text": [
      "REPOSITORY                    TAG                 IMAGE ID            CREATED             VIRTUAL SIZE\r\n",
      "ubuntu_with_curl_via_commit   latest              49431787dad2        32 seconds ago      199.7 MB\r\n"
     ]
    }
   ],
   "source": [
    "!docker images $image"
   ]
  },
  {
   "cell_type": "markdown",
   "metadata": {
    "collapsed": false,
    "slideshow": {
     "slide_type": "fragment"
    }
   },
   "source": [
    "...and compare it to the ubuntu **base image**..."
   ]
  },
  {
   "cell_type": "code",
   "execution_count": 19,
   "metadata": {
    "collapsed": false,
    "slideshow": {
     "slide_type": "fragment"
    }
   },
   "outputs": [
    {
     "name": "stdout",
     "output_type": "stream",
     "text": [
      "ubuntu              latest              6d4946999d4f        7 weeks ago         188.3 MB\r\n"
     ]
    }
   ],
   "source": [
    "!docker images ubuntu | grep latest"
   ]
  },
  {
   "cell_type": "markdown",
   "metadata": {
    "collapsed": false,
    "slideshow": {
     "slide_type": "fragment"
    }
   },
   "source": [
    "Installing curl grew our image by ~11 MB."
   ]
  },
  {
   "cell_type": "markdown",
   "metadata": {
    "collapsed": false,
    "slideshow": {
     "slide_type": "subslide"
    }
   },
   "source": [
    "We've **commit**ted a **container** into **an image**. \n",
    "<p>\n",
    "Let's try our command in a **container** built from this new **image**."
   ]
  },
  {
   "cell_type": "code",
   "execution_count": 20,
   "metadata": {
    "collapsed": false,
    "slideshow": {
     "slide_type": "fragment"
    }
   },
   "outputs": [
    {
     "name": "stdout",
     "output_type": "stream",
     "text": [
      " -b, --cookie STRING/FILE  String or file to read cookies from (H)\r\n",
      " -c, --cookie-jar FILE  Write cookies to this file after operation (H)\r\n",
      " -j, --junk-session-cookies Ignore session cookies read from file (H)\r\n"
     ]
    }
   ],
   "source": [
    "!docker run $image $get_ext_ip"
   ]
  },
  {
   "cell_type": "markdown",
   "metadata": {
    "collapsed": false,
    "slideshow": {
     "slide_type": "fragment"
    }
   },
   "source": [
    "What caused the extra noise?"
   ]
  },
  {
   "cell_type": "markdown",
   "metadata": {
    "collapsed": false,
    "slideshow": {
     "slide_type": "subslide"
    }
   },
   "source": [
    "Any questions on **docker commit** before we try it again via **Dockerfile**?"
   ]
  },
  {
   "cell_type": "markdown",
   "metadata": {
    "slideshow": {
     "slide_type": "skip"
    }
   },
   "source": [
    "### via dockerfile"
   ]
  },
  {
   "cell_type": "markdown",
   "metadata": {
    "collapsed": false,
    "slideshow": {
     "slide_type": "subslide"
    }
   },
   "source": [
    "A **Dockerfile** extends a **base image**."
   ]
  },
  {
   "cell_type": "code",
   "execution_count": 21,
   "metadata": {
    "collapsed": false,
    "slideshow": {
     "slide_type": "fragment"
    }
   },
   "outputs": [
    {
     "name": "stdout",
     "output_type": "stream",
     "text": [
      "\r\n",
      "FROM ubuntu:15.10\r\n",
      "RUN apt-get install -y curl\r\n",
      "\r\n"
     ]
    }
   ],
   "source": [
    "ubuget_dockerfile = \"\"\"\n",
    "FROM ubuntu:15.10\n",
    "RUN apt-get install -y curl\n",
    "\"\"\"\n",
    "!echo \"$ubuget_dockerfile\" > Dockerfile\n",
    "!cat Dockerfile"
   ]
  },
  {
   "cell_type": "markdown",
   "metadata": {
    "collapsed": false,
    "slideshow": {
     "slide_type": "fragment"
    }
   },
   "source": [
    "This **Dockerfile** extends the *Ubuntu:15.10* image and only performs one step: install curl."
   ]
  },
  {
   "cell_type": "markdown",
   "metadata": {
    "collapsed": false,
    "slideshow": {
     "slide_type": "subslide"
    }
   },
   "source": [
    "Now that we've a **Dockerfile**, we can **build** an **image**."
   ]
  },
  {
   "cell_type": "code",
   "execution_count": null,
   "metadata": {
    "collapsed": true
   },
   "outputs": [],
   "source": []
  },
  {
   "cell_type": "code",
   "execution_count": 22,
   "metadata": {
    "collapsed": false,
    "slideshow": {
     "slide_type": "fragment"
    }
   },
   "outputs": [
    {
     "name": "stdout",
     "output_type": "stream",
     "text": [
      "The command '/bin/sh -c apt-get install -y curl' returned a non-zero code: 100\r\n",
      "\r\n",
      "E: Failed to fetch http://archive.ubuntu.com/ubuntu/pool/main/c/curl/curl_7.38.0-3ubuntu3_amd64.deb  404  Not Found [IP: 91.189.92.201 80]\r\n",
      "\r\n",
      "E: Unable to fetch some archives, maybe run apt-get update or try with --fix-missing?\r\n",
      "\u001b[0mFetched 1548 kB in 13s (114 kB/s)\r\n"
     ]
    }
   ],
   "source": [
    "image = 'ubtuntu_with_curl_via_dockerfile'\n",
    "!docker build --tag $image . | tail -n 5"
   ]
  },
  {
   "cell_type": "markdown",
   "metadata": {
    "collapsed": false,
    "slideshow": {
     "slide_type": "fragment"
    }
   },
   "source": [
    "Why did this one fail?"
   ]
  },
  {
   "cell_type": "markdown",
   "metadata": {
    "collapsed": false,
    "slideshow": {
     "slide_type": "fragment"
    }
   },
   "source": [
    "Don't forget remote installation dependencies."
   ]
  },
  {
   "cell_type": "markdown",
   "metadata": {
    "collapsed": false,
    "slideshow": {
     "slide_type": "subslide"
    }
   },
   "source": [
    "Our image needs an update."
   ]
  },
  {
   "cell_type": "code",
   "execution_count": 23,
   "metadata": {
    "collapsed": false,
    "scrolled": true,
    "slideshow": {
     "slide_type": "fragment"
    }
   },
   "outputs": [
    {
     "name": "stdout",
     "output_type": "stream",
     "text": [
      " ---> cba61456b184\r\n",
      "Removing intermediate container 187cef85390f\r\n",
      "Successfully built cba61456b184\r\n",
      "\r\n",
      "real\t0m47.418s\r\n",
      "user\t0m0.242s\r\n",
      "sys\t0m0.035s\r\n"
     ]
    }
   ],
   "source": [
    "dockerfile = \"\"\"\n",
    "FROM ubuntu:15.10\n",
    "RUN apt-get update -y\n",
    "RUN apt-get install -y curl\n",
    "\"\"\"\n",
    "!echo \"$dockerfile\" > Dockerfile\n",
    "!time docker build --no-cache --tag $image . | tail -n 3"
   ]
  },
  {
   "cell_type": "markdown",
   "metadata": {
    "collapsed": false,
    "slideshow": {
     "slide_type": "fragment"
    }
   },
   "source": [
    "Note the time."
   ]
  },
  {
   "cell_type": "markdown",
   "metadata": {
    "collapsed": false,
    "slideshow": {
     "slide_type": "subslide"
    }
   },
   "source": [
    "Let's try our command again, using our newly built **image**."
   ]
  },
  {
   "cell_type": "code",
   "execution_count": 24,
   "metadata": {
    "collapsed": false,
    "slideshow": {
     "slide_type": "fragment"
    }
   },
   "outputs": [
    {
     "name": "stdout",
     "output_type": "stream",
     "text": [
      " -b, --cookie STRING/FILE  Read cookies from STRING/FILE (H)\r\n",
      " -c, --cookie-jar FILE  Write cookies to FILE after operation (H)\r\n",
      " -j, --junk-session-cookies  Ignore session cookies read from file (H)\r\n"
     ]
    }
   ],
   "source": [
    "!docker run $image $get_ext_ip"
   ]
  },
  {
   "cell_type": "markdown",
   "metadata": {
    "slideshow": {
     "slide_type": "skip"
    }
   },
   "source": [
    "## Review"
   ]
  },
  {
   "cell_type": "markdown",
   "metadata": {
    "slideshow": {
     "slide_type": "subslide"
    }
   },
   "source": [
    "A quick review of some **docker** commands:\n",
    " - **docker build** (an **image** from a **Dockerfile**)\n",
    " - **docker commit** (an **image** from a **container**)\n",
    " - **docker run** (a **container** from an **image**)"
   ]
  },
  {
   "cell_type": "markdown",
   "metadata": {
    "slideshow": {
     "slide_type": "fragment"
    }
   },
   "source": [
    "**image** specific:\n",
    " - **docker images**: list **image**s\n",
    " - **docker pull**: fetch **image**s"
   ]
  },
  {
   "cell_type": "markdown",
   "metadata": {
    "slideshow": {
     "slide_type": "fragment"
    }
   },
   "source": [
    "**container** specific:\n",
    " - **docker ps**: list (running) **container**s\n",
    " - **docker stop**: stop **container**s\n",
    " - **docker rm**: delete stopped **container**s"
   ]
  },
  {
   "cell_type": "markdown",
   "metadata": {
    "slideshow": {
     "slide_type": "subslide"
    }
   },
   "source": [
    "Any basic **Docker** questions before we continue?"
   ]
  },
  {
   "cell_type": "markdown",
   "metadata": {
    "collapsed": true,
    "slideshow": {
     "slide_type": "slide"
    }
   },
   "source": [
    "# Our Host"
   ]
  },
  {
   "cell_type": "markdown",
   "metadata": {
    "collapsed": true,
    "slideshow": {
     "slide_type": "fragment"
    }
   },
   "source": [
    "local"
   ]
  },
  {
   "cell_type": "code",
   "execution_count": 25,
   "metadata": {
    "collapsed": true,
    "slideshow": {
     "slide_type": "fragment"
    }
   },
   "outputs": [],
   "source": [
    "# create new docker host\n",
    "# docker-machine create --driver virtualbox FOO"
   ]
  },
  {
   "cell_type": "markdown",
   "metadata": {
    "collapsed": true,
    "slideshow": {
     "slide_type": "fragment"
    }
   },
   "source": [
    "EC2 instance"
   ]
  },
  {
   "cell_type": "code",
   "execution_count": null,
   "metadata": {
    "collapsed": true,
    "slideshow": {
     "slide_type": "fragment"
    }
   },
   "outputs": [],
   "source": [
    "docker_machine_arguments = \"\"\"\n",
    "    --driver  -iam-instance-profile ecsInstanceRole \\\n",
    "    --amazonec2-security-group sg-12345678 \\\n",
    "    --amazonec2-vpc-id vpc-12345678 \\\n",
    "    --amazonec2-subnet-id subnet-12345678 \\\n",
    "    --amazonec2-region us-east-1 \\\n",
    "    --amazonec2-zone a \\\n",
    "    --amazonec2-instance-type t2.micro \\\n",
    "    --amazonec2-root-size 25 \\\n",
    "\"\"\"\n",
    "machine_name = 'my_host'\n",
    "#!docker-machine create $docker_machine_arguments $machine_name"
   ]
  },
  {
   "cell_type": "markdown",
   "metadata": {
    "collapsed": true,
    "slideshow": {
     "slide_type": "subslide"
    }
   },
   "source": [
    "Directing docker-machine and docker"
   ]
  },
  {
   "cell_type": "code",
   "execution_count": null,
   "metadata": {
    "collapsed": true,
    "slideshow": {
     "slide_type": "fragment"
    }
   },
   "outputs": [],
   "source": [
    "# point docker-machine to new machine\n",
    "# docker-machine active FOO"
   ]
  },
  {
   "cell_type": "code",
   "execution_count": 26,
   "metadata": {
    "collapsed": true,
    "slideshow": {
     "slide_type": "fragment"
    }
   },
   "outputs": [],
   "source": [
    "# point docker to new machine\n",
    "# eval \"$(docker-machine env ffdd)\""
   ]
  },
  {
   "cell_type": "markdown",
   "metadata": {
    "collapsed": true,
    "slideshow": {
     "slide_type": "slide"
    }
   },
   "source": [
    "# Our App"
   ]
  },
  {
   "cell_type": "markdown",
   "metadata": {
    "collapsed": true,
    "slideshow": {
     "slide_type": "subslide"
    }
   },
   "source": [
    "## Nothing up my sleeve"
   ]
  },
  {
   "cell_type": "code",
   "execution_count": 27,
   "metadata": {
    "collapsed": false,
    "slideshow": {
     "slide_type": "fragment"
    }
   },
   "outputs": [
    {
     "name": "stdout",
     "output_type": "stream",
     "text": [
      "total 0\r\n",
      "drwxr-xr-x   2 jasongreen  staff   68 Aug  2 14:20 \u001b[34m.\u001b[m\u001b[m\r\n",
      "drwxr-xr-x  15 jasongreen  staff  510 Aug  2 14:20 \u001b[34m..\u001b[m\u001b[m\r\n"
     ]
    }
   ],
   "source": [
    "!rm -rf /ffdd/app/\n",
    "!mkdir /ffdd/app/\n",
    "!ls -al /ffdd/app"
   ]
  },
  {
   "cell_type": "markdown",
   "metadata": {
    "collapsed": true,
    "slideshow": {
     "slide_type": "subslide"
    }
   },
   "source": [
    "## Getting to know your web server"
   ]
  },
  {
   "cell_type": "markdown",
   "metadata": {
    "collapsed": true,
    "slideshow": {
     "slide_type": "subslide"
    }
   },
   "source": [
    "###Our web server's code"
   ]
  },
  {
   "cell_type": "code",
   "execution_count": 28,
   "metadata": {
    "collapsed": false,
    "slideshow": {
     "slide_type": "fragment"
    }
   },
   "outputs": [],
   "source": [
    "web_py = \"\"\"#!/usr/bin/env python\n",
    "\n",
    "from flask import Flask\n",
    "\n",
    "app = Flask(__name__)\n",
    "\n",
    "@app.route('/')\n",
    "def hello():\n",
    "    return 'Hello, world!'\n",
    "    \n",
    "if __name__ == '__main__':\n",
    "    app.run(host='0.0.0.0', port=80, debug=True)\n",
    "\"\"\"\n",
    "!echo \"$web_py\" > /ffdd/app/web.py\n",
    "!chmod +x /ffdd/app/web.py"
   ]
  },
  {
   "cell_type": "markdown",
   "metadata": {
    "collapsed": true,
    "slideshow": {
     "slide_type": "subslide"
    }
   },
   "source": [
    "###Our web server's requirements file"
   ]
  },
  {
   "cell_type": "code",
   "execution_count": 29,
   "metadata": {
    "collapsed": false,
    "slideshow": {
     "slide_type": "fragment"
    }
   },
   "outputs": [],
   "source": [
    "web_requirements_txt = \"\"\"\n",
    "Flask==0.10.1\n",
    "\"\"\"\n",
    "!echo \"$web_requirements_txt\" > /ffdd/app/requirements.txt"
   ]
  },
  {
   "cell_type": "markdown",
   "metadata": {
    "collapsed": true,
    "slideshow": {
     "slide_type": "subslide"
    }
   },
   "source": [
    "###Our web server's **dockerfile**"
   ]
  },
  {
   "cell_type": "code",
   "execution_count": 30,
   "metadata": {
    "collapsed": false,
    "slideshow": {
     "slide_type": "fragment"
    }
   },
   "outputs": [],
   "source": [
    "web_dockerfile = \"\"\"\n",
    "FROM python:3.4\n",
    "\n",
    "RUN mkdir /app\n",
    "ADD web.py /app/web.py\n",
    "\n",
    "ADD requirements.txt /requirements.txt\n",
    "\n",
    "RUN pip install -r /requirements.txt\n",
    "\n",
    "EXPOSE 80\n",
    "\"\"\"\n",
    "!echo \"$web_dockerfile\" > /ffdd/app/web_dockerfile"
   ]
  },
  {
   "cell_type": "markdown",
   "metadata": {
    "collapsed": true,
    "slideshow": {
     "slide_type": "subslide"
    }
   },
   "source": [
    "###Our web server's **image**"
   ]
  },
  {
   "cell_type": "code",
   "execution_count": 31,
   "metadata": {
    "collapsed": false,
    "scrolled": true,
    "slideshow": {
     "slide_type": "fragment"
    }
   },
   "outputs": [
    {
     "name": "stdout",
     "output_type": "stream",
     "text": [
      " ---> 8c7ecfe666e0\r\n",
      "Removing intermediate container a7c65fa451b1\r\n",
      "Successfully built 8c7ecfe666e0\r\n"
     ]
    }
   ],
   "source": [
    "web_image = \"web:20150629-1800\"\n",
    "!docker build --tag $web_image -f /ffdd/app/web_dockerfile /ffdd/app | tail -n 3  "
   ]
  },
  {
   "cell_type": "markdown",
   "metadata": {
    "collapsed": true,
    "slideshow": {
     "slide_type": "fragment"
    }
   },
   "source": [
    "Our web server's **container**"
   ]
  },
  {
   "cell_type": "code",
   "execution_count": 32,
   "metadata": {
    "collapsed": false,
    "slideshow": {
     "slide_type": "fragment"
    }
   },
   "outputs": [
    {
     "name": "stdout",
     "output_type": "stream",
     "text": [
      "dfae19ce8dabbe52ce29e4269990720a47af3bed14e7b8dacbd8680d33f905d8\r\n"
     ]
    }
   ],
   "source": [
    "!docker run -d -p \"80:80\" $web_image /app/web.py"
   ]
  },
  {
   "cell_type": "markdown",
   "metadata": {
    "collapsed": true,
    "slideshow": {
     "slide_type": "fragment"
    }
   },
   "source": [
    "Needs more ~~cowbell~~ **container**s!"
   ]
  },
  {
   "cell_type": "markdown",
   "metadata": {
    "collapsed": true,
    "slideshow": {
     "slide_type": "slide"
    }
   },
   "source": [
    "# Docker Compose"
   ]
  },
  {
   "cell_type": "markdown",
   "metadata": {},
   "source": [
    "<img style=\"float: right; margin: 0px 15px 15px 0px;\" \n",
    "src=\"files/images/docker_compose.png\"\n",
    "height=\"400\" width=\"400\" />"
   ]
  },
  {
   "cell_type": "markdown",
   "metadata": {
    "collapsed": false,
    "slideshow": {
     "slide_type": "subslide"
    }
   },
   "source": [
    "Docker Compose uses a YAML file to coordinate containers."
   ]
  },
  {
   "cell_type": "markdown",
   "metadata": {
    "collapsed": false,
    "slideshow": {
     "slide_type": "fragment"
    }
   },
   "source": [
    "So let's add one."
   ]
  },
  {
   "cell_type": "markdown",
   "metadata": {
    "collapsed": true,
    "slideshow": {
     "slide_type": "skip"
    }
   },
   "source": [
    "## flask in yaml"
   ]
  },
  {
   "cell_type": "code",
   "execution_count": 33,
   "metadata": {
    "collapsed": false,
    "slideshow": {
     "slide_type": "fragment"
    }
   },
   "outputs": [],
   "source": [
    "app_yml = \"\"\"\n",
    "web:\n",
    "  image: web:20150629-1800\n",
    "  ports:\n",
    "    - '80:80'\n",
    "  command: /app/web.py\n",
    "\"\"\"\n",
    "!echo \"$app_yml\" > /ffdd/app/app.yml "
   ]
  },
  {
   "cell_type": "markdown",
   "metadata": {
    "collapsed": false,
    "slideshow": {
     "slide_type": "subslide"
    }
   },
   "source": [
    "Now, let's start our app."
   ]
  },
  {
   "cell_type": "code",
   "execution_count": 34,
   "metadata": {
    "collapsed": false,
    "slideshow": {
     "slide_type": "fragment"
    }
   },
   "outputs": [
    {
     "name": "stdout",
     "output_type": "stream",
     "text": [
      "/usr/local/Cellar/fig/1.3.3/libexec/vendor/lib/python2.7/site-packages/requests/packages/urllib3/util/ssl_.py:90: InsecurePlatformWarning: A true SSLContext object is not available. This prevents urllib3 from configuring SSL appropriately and may cause certain SSL connections to fail. For more information, see https://urllib3.readthedocs.org/en/latest/security.html#insecureplatformwarning.\n",
      "  InsecurePlatformWarning\n",
      "Creating app_web_1...\n",
      "Cannot start container b591926c3be8d82d0d362a7c252ccd5e1d43419d5360a8d40b250aa4869e4a71: Bind for 0.0.0.0:80 failed: port is already allocated\n"
     ]
    }
   ],
   "source": [
    "!docker-compose -f /ffdd/app/app.yml up -d "
   ]
  },
  {
   "cell_type": "markdown",
   "metadata": {
    "collapsed": false,
    "slideshow": {
     "slide_type": "subslide"
    }
   },
   "source": [
    "Let's shut down our previous web server."
   ]
  },
  {
   "cell_type": "code",
   "execution_count": 35,
   "metadata": {
    "collapsed": false,
    "slideshow": {
     "slide_type": "fragment"
    }
   },
   "outputs": [
    {
     "name": "stdout",
     "output_type": "stream",
     "text": [
      "b591926c3be8\n",
      "dfae19ce8dab\n",
      "53403bd6b0fb\n",
      "c8a297d46ea9\n",
      "669baaee9af7\n",
      "b591926c3be8\n",
      "dfae19ce8dab\n",
      "53403bd6b0fb\n",
      "c8a297d46ea9\n",
      "669baaee9af7\n"
     ]
    }
   ],
   "source": [
    "docker_stop_all = 'docker stop $(docker ps -a -q)'\n",
    "docker_remove_all = 'docker rm $(docker ps -a -q)'\n",
    "docker_nuke = docker_stop_all + '&&' + docker_remove_all\n",
    "!$docker_nuke"
   ]
  },
  {
   "cell_type": "markdown",
   "metadata": {
    "collapsed": false,
    "slideshow": {
     "slide_type": "subslide"
    }
   },
   "source": [
    "Now to start our app again via **docker-compose up**."
   ]
  },
  {
   "cell_type": "code",
   "execution_count": 36,
   "metadata": {
    "collapsed": false,
    "slideshow": {
     "slide_type": "fragment"
    }
   },
   "outputs": [
    {
     "name": "stdout",
     "output_type": "stream",
     "text": [
      "/usr/local/Cellar/fig/1.3.3/libexec/vendor/lib/python2.7/site-packages/requests/packages/urllib3/util/ssl_.py:90: InsecurePlatformWarning: A true SSLContext object is not available. This prevents urllib3 from configuring SSL appropriately and may cause certain SSL connections to fail. For more information, see https://urllib3.readthedocs.org/en/latest/security.html#insecureplatformwarning.\n",
      "  InsecurePlatformWarning\n",
      "Creating app_web_1...\n"
     ]
    }
   ],
   "source": [
    "!docker-compose -f /ffdd/app/app.yml up -d"
   ]
  },
  {
   "cell_type": "markdown",
   "metadata": {
    "collapsed": false,
    "slideshow": {
     "slide_type": "subslide"
    }
   },
   "source": [
    "...And look at our composed containers via **docker-compose ps**."
   ]
  },
  {
   "cell_type": "code",
   "execution_count": 37,
   "metadata": {
    "collapsed": false,
    "scrolled": true,
    "slideshow": {
     "slide_type": "subslide"
    }
   },
   "outputs": [
    {
     "name": "stdout",
     "output_type": "stream",
     "text": [
      "/usr/local/Cellar/fig/1.3.3/libexec/vendor/lib/python2.7/site-packages/requests/packages/urllib3/util/ssl_.py:90: InsecurePlatformWarning: A true SSLContext object is not available. This prevents urllib3 from configuring SSL appropriately and may cause certain SSL connections to fail. For more information, see https://urllib3.readthedocs.org/en/latest/security.html#insecureplatformwarning.\n",
      "  InsecurePlatformWarning\n",
      "  Name        Command     State         Ports        \n",
      "----------------------------------------------------\n",
      "app_web_1   /app/web.py   Up      0.0.0.0:80->80/tcp \n"
     ]
    }
   ],
   "source": [
    "!docker-compose -f /ffdd/app/app.yml ps"
   ]
  },
  {
   "cell_type": "markdown",
   "metadata": {
    "collapsed": false,
    "slideshow": {
     "slide_type": "fragment"
    }
   },
   "source": [
    "Our container looks lonely."
   ]
  },
  {
   "cell_type": "markdown",
   "metadata": {
    "collapsed": true,
    "slideshow": {
     "slide_type": "skip"
    }
   },
   "source": [
    "## flask & redis in yaml"
   ]
  },
  {
   "cell_type": "markdown",
   "metadata": {
    "collapsed": true,
    "slideshow": {
     "slide_type": "subslide"
    }
   },
   "source": [
    "Let's add a redis service to count our page views."
   ]
  },
  {
   "cell_type": "markdown",
   "metadata": {
    "collapsed": true,
    "slideshow": {
     "slide_type": "fragment"
    }
   },
   "source": [
    "Docker Best Practice: 1 process per container."
   ]
  },
  {
   "cell_type": "markdown",
   "metadata": {
    "slideshow": {
     "slide_type": "fragment"
    }
   },
   "source": [
    "This means updating three files:\n",
    "- app.yml\n",
    "- web.py\n",
    "- requirements.txt\n",
    "<p>"
   ]
  },
  {
   "cell_type": "markdown",
   "metadata": {
    "slideshow": {
     "slide_type": "fragment"
    }
   },
   "source": [
    "Then, we'll need to rebuild our image."
   ]
  },
  {
   "cell_type": "markdown",
   "metadata": {
    "collapsed": true,
    "slideshow": {
     "slide_type": "fragment"
    }
   },
   "source": [
    "And finally, we'll reload our application."
   ]
  },
  {
   "cell_type": "markdown",
   "metadata": {
    "collapsed": true,
    "slideshow": {
     "slide_type": "subslide"
    }
   },
   "source": [
    "First, we add the redis service to the yaml."
   ]
  },
  {
   "cell_type": "code",
   "execution_count": 44,
   "metadata": {
    "collapsed": true,
    "slideshow": {
     "slide_type": "fragment"
    }
   },
   "outputs": [],
   "source": [
    "app_yml = \"\"\"\n",
    "web:\n",
    "  image: web:20150629-1800\n",
    "  links:\n",
    "   - redis\n",
    "  ports:\n",
    "   - '80:80'\n",
    "  command: /app/web.py\n",
    "redis:\n",
    "  image: redis:3.0.2\n",
    "\"\"\"\n",
    "!echo \"$app_yml\" > /ffdd/app/app.yml"
   ]
  },
  {
   "cell_type": "markdown",
   "metadata": {
    "collapsed": true,
    "slideshow": {
     "slide_type": "fragment"
    }
   },
   "source": [
    "Don't forget the 'link'."
   ]
  },
  {
   "cell_type": "markdown",
   "metadata": {
    "collapsed": true,
    "slideshow": {
     "slide_type": "subslide"
    }
   },
   "source": [
    "Then we update web.py to use redis."
   ]
  },
  {
   "cell_type": "code",
   "execution_count": 45,
   "metadata": {
    "collapsed": false,
    "slideshow": {
     "slide_type": "fragment"
    }
   },
   "outputs": [],
   "source": [
    "web_py = \"\"\"#!/usr/bin/env python\n",
    "from flask import Flask\n",
    "from redis import Redis\n",
    "\n",
    "app = Flask(__name__)\n",
    "redis = Redis(host='redis', port=6379)\n",
    "\n",
    "@app.route('/')\n",
    "def hello():\n",
    "    redis.incr('hits')\n",
    "    hits = int(redis.get('hits'))\n",
    "    return 'Hello, world. Page hits: {hits}'.format(hits=hits)\n",
    "\n",
    "if __name__ == '__main__':\n",
    "    app.run(host='0.0.0.0', port=80, debug=True)\n",
    "\"\"\"\n",
    "!echo \"$web_py\" > /ffdd/app/web.py"
   ]
  },
  {
   "cell_type": "markdown",
   "metadata": {
    "collapsed": true,
    "slideshow": {
     "slide_type": "subslide"
    }
   },
   "source": [
    "Next, we update our requirements.txt to include redis."
   ]
  },
  {
   "cell_type": "code",
   "execution_count": 46,
   "metadata": {
    "collapsed": false,
    "slideshow": {
     "slide_type": "fragment"
    }
   },
   "outputs": [],
   "source": [
    "web_requirements_txt = \"\"\"\n",
    "Flask==0.10.1\n",
    "redis==2.10.3\n",
    "\"\"\"\n",
    "!echo \"$web_requirements_txt\" > /ffdd/app/requirements.txt"
   ]
  },
  {
   "cell_type": "markdown",
   "metadata": {
    "collapsed": true,
    "slideshow": {
     "slide_type": "fragment"
    }
   },
   "source": [
    "Always pin your versions!"
   ]
  },
  {
   "cell_type": "markdown",
   "metadata": {
    "collapsed": true,
    "slideshow": {
     "slide_type": "subslide"
    }
   },
   "source": [
    "Finally, we rebuild our image."
   ]
  },
  {
   "cell_type": "code",
   "execution_count": 47,
   "metadata": {
    "collapsed": false,
    "scrolled": true,
    "slideshow": {
     "slide_type": "fragment"
    }
   },
   "outputs": [
    {
     "name": "stdout",
     "output_type": "stream",
     "text": [
      " ---> 119dbce6214d\r\n",
      "Removing intermediate container 78fd341b9b27\r\n",
      "Successfully built 119dbce6214d\r\n",
      "\r\n",
      "real\t0m9.409s\r\n",
      "user\t0m0.173s\r\n",
      "sys\t0m0.011s\r\n"
     ]
    }
   ],
   "source": [
    "!time docker build --tag $web_image -f /ffdd/app/web_dockerfile /ffdd/app | tail -n 3   "
   ]
  },
  {
   "cell_type": "markdown",
   "metadata": {
    "collapsed": true,
    "slideshow": {
     "slide_type": "subslide"
    }
   },
   "source": [
    "Now we can spin up our new redis + flask app."
   ]
  },
  {
   "cell_type": "code",
   "execution_count": 48,
   "metadata": {
    "collapsed": false,
    "slideshow": {
     "slide_type": "fragment"
    }
   },
   "outputs": [
    {
     "name": "stdout",
     "output_type": "stream",
     "text": [
      "/usr/local/Cellar/fig/1.3.3/libexec/vendor/lib/python2.7/site-packages/requests/packages/urllib3/util/ssl_.py:90: InsecurePlatformWarning: A true SSLContext object is not available. This prevents urllib3 from configuring SSL appropriately and may cause certain SSL connections to fail. For more information, see https://urllib3.readthedocs.org/en/latest/security.html#insecureplatformwarning.\n",
      "  InsecurePlatformWarning\n",
      "Recreating app_redis_1...\n",
      "Recreating app_web_1...\n"
     ]
    }
   ],
   "source": [
    "!docker-compose -f /ffdd/app/app.yml up -d"
   ]
  },
  {
   "cell_type": "markdown",
   "metadata": {
    "collapsed": true,
    "slideshow": {
     "slide_type": "subslide"
    }
   },
   "source": [
    "All those steps may seem reasonable when adding a new service."
   ]
  },
  {
   "cell_type": "markdown",
   "metadata": {
    "collapsed": true,
    "slideshow": {
     "slide_type": "fragment"
    }
   },
   "source": [
    "But if our run-time dependencies don't change, we shouldn't need to rebuild our image."
   ]
  },
  {
   "cell_type": "markdown",
   "metadata": {
    "collapsed": true,
    "slideshow": {
     "slide_type": "subslide"
    }
   },
   "source": [
    "As we've bundled our web.py into our image, we need to rebuild our image every time it changes. Ew."
   ]
  },
  {
   "cell_type": "code",
   "execution_count": 51,
   "metadata": {
    "collapsed": false,
    "slideshow": {
     "slide_type": "fragment"
    }
   },
   "outputs": [
    {
     "name": "stdout",
     "output_type": "stream",
     "text": [
      " ---> Using cache\r\n",
      " ---> 283ba68b4c3e\r\n",
      "Successfully built 283ba68b4c3e\r\n",
      "\r\n",
      "real\t0m0.278s\r\n",
      "user\t0m0.131s\r\n",
      "sys\t0m0.008s\r\n"
     ]
    }
   ],
   "source": [
    "!touch /ffdd/app/web.py\n",
    "!time docker build --tag $web_image -f /ffdd/app/web_dockerfile /ffdd/app | tail -n 3  "
   ]
  },
  {
   "cell_type": "markdown",
   "metadata": {
    "collapsed": true,
    "slideshow": {
     "slide_type": "fragment"
    }
   },
   "source": [
    "We can't wait that long for each code update."
   ]
  },
  {
   "cell_type": "markdown",
   "metadata": {
    "collapsed": true,
    "slideshow": {
     "slide_type": "fragment"
    }
   },
   "source": [
    "We can speed up our **image**'s **build** by reording our **Dockerfile**."
   ]
  },
  {
   "cell_type": "markdown",
   "metadata": {
    "collapsed": true,
    "slideshow": {
     "slide_type": "skip"
    }
   },
   "source": [
    "## reordering our dockerfile"
   ]
  },
  {
   "cell_type": "code",
   "execution_count": 53,
   "metadata": {
    "collapsed": false,
    "slideshow": {
     "slide_type": "subslide"
    }
   },
   "outputs": [
    {
     "name": "stdout",
     "output_type": "stream",
     "text": [
      "\r\n",
      "FROM python:3.4\r\n",
      "\r\n",
      "RUN mkdir /app\r\n",
      "ADD web.py /app/web.py\r\n",
      "\r\n",
      "ADD requirements.txt /requirements.txt\r\n",
      "\r\n",
      "RUN pip install -r /requirements.txt\r\n",
      "\r\n",
      "EXPOSE 80\r\n",
      "\r\n"
     ]
    }
   ],
   "source": [
    "# The old order:\n",
    "!cat /ffdd/app/web_dockerfile"
   ]
  },
  {
   "cell_type": "code",
   "execution_count": 54,
   "metadata": {
    "collapsed": true,
    "slideshow": {
     "slide_type": "fragment"
    }
   },
   "outputs": [],
   "source": [
    "#    Our new order:\n",
    "web_dockerfile =   \"\"\"\n",
    "FROM python:3.4\n",
    "EXPOSE 80 \n",
    "\n",
    "ADD requirements.txt /requirements.txt\n",
    "RUN pip install -r /requirements.txt\n",
    "\n",
    "RUN mkdir /app\n",
    "ADD web.py /app/web.py\n",
    "\"\"\"\n",
    "!echo \"$web_dockerfile\" > /ffdd/app/web_dockerfile"
   ]
  },
  {
   "cell_type": "markdown",
   "metadata": {
    "collapsed": false,
    "scrolled": true,
    "slideshow": {
     "slide_type": "subslide"
    }
   },
   "source": [
    "Did we speed it up?"
   ]
  },
  {
   "cell_type": "code",
   "execution_count": 56,
   "metadata": {
    "collapsed": false,
    "scrolled": false,
    "slideshow": {
     "slide_type": "fragment"
    }
   },
   "outputs": [
    {
     "name": "stdout",
     "output_type": "stream",
     "text": [
      " ---> f496831ab573\n",
      "Removing intermediate container b866a90db32b\n",
      "Successfully built f496831ab573\n",
      "\n",
      "real\t0m0.640s\n",
      "user\t0m0.143s\n",
      "sys\t0m0.008s\n"
     ]
    }
   ],
   "source": [
    "!touch /ffdd/app/web.py\n",
    "!time docker build --tag $web_image -f /ffdd/app/web_dockerfile /ffdd/app | tail -n 3  "
   ]
  },
  {
   "cell_type": "markdown",
   "metadata": {
    "collapsed": true,
    "slideshow": {
     "slide_type": "skip"
    }
   },
   "source": [
    "## decoupling web.py and our web **image**"
   ]
  },
  {
   "cell_type": "markdown",
   "metadata": {
    "collapsed": true,
    "slideshow": {
     "slide_type": "subslide"
    }
   },
   "source": [
    "How to avoid rebuilding our **image** when changing web.py?"
   ]
  },
  {
   "cell_type": "markdown",
   "metadata": {
    "collapsed": true,
    "slideshow": {
     "slide_type": "fragment"
    }
   },
   "source": [
    "We could mount our source code as a host volume."
   ]
  },
  {
   "cell_type": "markdown",
   "metadata": {
    "collapsed": true,
    "slideshow": {
     "slide_type": "subslide"
    }
   },
   "source": [
    "Let's start by decoupling web.py from our web **image**."
   ]
  },
  {
   "cell_type": "markdown",
   "metadata": {
    "collapsed": true,
    "slideshow": {
     "slide_type": "fragment"
    }
   },
   "source": [
    "This will require removing it from our web **image**'s **Dockerfile**."
   ]
  },
  {
   "cell_type": "code",
   "execution_count": 57,
   "metadata": {
    "collapsed": true,
    "slideshow": {
     "slide_type": "fragment"
    }
   },
   "outputs": [],
   "source": [
    "web_dockerfile = \"\"\"\n",
    "FROM python:3.4\n",
    "EXPOSE 80\n",
    "\n",
    "ADD requirements.txt /requirements.txt\n",
    "RUN pip install -r /requirements.txt\n",
    "\"\"\"\n",
    "!echo \"$web_dockerfile\" > /ffdd/app/web_dockerfile"
   ]
  },
  {
   "cell_type": "markdown",
   "metadata": {
    "slideshow": {
     "slide_type": "subslide"
    }
   },
   "source": [
    "And placing it its own **Dockerfile**."
   ]
  },
  {
   "cell_type": "code",
   "execution_count": 58,
   "metadata": {
    "collapsed": false,
    "slideshow": {
     "slide_type": "fragment"
    }
   },
   "outputs": [],
   "source": [
    "source_dockerfile = \"\"\"\n",
    "# I wish I were scratch!\n",
    "FROM busybox:buildroot-2013.08.1\n",
    "COPY . /app\n",
    "VOLUME /app\n",
    "\"\"\"\n",
    "!echo \"$source_dockerfile\" > /ffdd/app/source_dockerfile"
   ]
  },
  {
   "cell_type": "markdown",
   "metadata": {
    "collapsed": true,
    "slideshow": {
     "slide_type": "subslide"
    }
   },
   "source": [
    "We'll need to include this new source service in our YAML."
   ]
  },
  {
   "cell_type": "code",
   "execution_count": 59,
   "metadata": {
    "collapsed": true,
    "slideshow": {
     "slide_type": "fragment"
    }
   },
   "outputs": [],
   "source": [
    "app_yml = \"\"\"\n",
    "source:\n",
    "  build: .\n",
    "web:\n",
    "  image: web:20150629-1800\n",
    "  volumes_from:\n",
    "   - source\n",
    "  links:\n",
    "   - redis\n",
    "  ports:\n",
    "   - '80:80'\n",
    "  command: /app/web.py\n",
    "redis:\n",
    "  image: redis:3.0.2\n",
    "\"\"\"\n",
    "!echo \"$app_yml\" > /ffdd/app/app.yml"
   ]
  },
  {
   "cell_type": "markdown",
   "metadata": {
    "collapsed": true,
    "slideshow": {
     "slide_type": "fragment"
    }
   },
   "source": [
    "Note the new _build_ and _volumes_from_ directives."
   ]
  },
  {
   "cell_type": "markdown",
   "metadata": {
    "collapsed": true,
    "slideshow": {
     "slide_type": "subslide"
    }
   },
   "source": [
    "Let's run it."
   ]
  },
  {
   "cell_type": "code",
   "execution_count": 60,
   "metadata": {
    "collapsed": false,
    "scrolled": false,
    "slideshow": {
     "slide_type": "fragment"
    }
   },
   "outputs": [
    {
     "name": "stdout",
     "output_type": "stream",
     "text": [
      "/usr/local/Cellar/fig/1.3.3/libexec/vendor/lib/python2.7/site-packages/requests/packages/urllib3/util/ssl_.py:90: InsecurePlatformWarning: A true SSLContext object is not available. This prevents urllib3 from configuring SSL appropriately and may cause certain SSL connections to fail. For more information, see https://urllib3.readthedocs.org/en/latest/security.html#insecureplatformwarning.\n",
      "  InsecurePlatformWarning\n",
      "Creating app_source_1...\n",
      "Recreating app_redis_1...\n",
      "Recreating app_web_1...\n"
     ]
    }
   ],
   "source": [
    "!docker-compose -f /ffdd/app/app.yml up -d"
   ]
  },
  {
   "cell_type": "code",
   "execution_count": 61,
   "metadata": {
    "collapsed": false,
    "slideshow": {
     "slide_type": "fragment"
    }
   },
   "outputs": [],
   "source": [
    "!mv /ffdd/app/source_dockerfile /ffdd/app/Dockerfile"
   ]
  },
  {
   "cell_type": "markdown",
   "metadata": {
    "collapsed": true,
    "slideshow": {
     "slide_type": "skip"
    }
   },
   "source": [
    "## decoupling web.py and web_image"
   ]
  },
  {
   "cell_type": "markdown",
   "metadata": {
    "collapsed": true,
    "slideshow": {
     "slide_type": "subslide"
    }
   },
   "source": [
    "Okay, let's make a minor change to web.py."
   ]
  },
  {
   "cell_type": "code",
   "execution_count": 62,
   "metadata": {
    "collapsed": false,
    "slideshow": {
     "slide_type": "fragment"
    }
   },
   "outputs": [],
   "source": [
    "web_py = \"\"\"#!/usr/bin/env python\n",
    "from flask import Flask\n",
    "from redis import Redis\n",
    "\n",
    "app = Flask(__name__)\n",
    "redis = Redis(host='redis', port=6379)\n",
    "\n",
    "@app.route('/')\n",
    "def hiya():\n",
    "    redis.incr('hits')\n",
    "    hits = int(redis.get('hits'))\n",
    "    return 'Hiya, world! Page hits: {hits}'.format(hits=hits)\n",
    "\n",
    "if __name__ == '__main__':\n",
    "    app.run(host='0.0.0.0', port=80, debug=True)\n",
    "\"\"\"\n",
    "!echo \"$web_py\" > /ffdd/app/web.py"
   ]
  },
  {
   "cell_type": "markdown",
   "metadata": {
    "collapsed": true,
    "slideshow": {
     "slide_type": "subslide"
    }
   },
   "source": [
    "And run it."
   ]
  },
  {
   "cell_type": "code",
   "execution_count": 63,
   "metadata": {
    "collapsed": false,
    "scrolled": false,
    "slideshow": {
     "slide_type": "fragment"
    }
   },
   "outputs": [
    {
     "name": "stdout",
     "output_type": "stream",
     "text": [
      "/usr/local/Cellar/fig/1.3.3/libexec/vendor/lib/python2.7/site-packages/requests/packages/urllib3/util/ssl_.py:90: InsecurePlatformWarning: A true SSLContext object is not available. This prevents urllib3 from configuring SSL appropriately and may cause certain SSL connections to fail. For more information, see https://urllib3.readthedocs.org/en/latest/security.html#insecureplatformwarning.\n",
      "  InsecurePlatformWarning\n",
      "Recreating app_source_1...\n",
      "Recreating app_redis_1...\n",
      "Recreating app_web_1...\n"
     ]
    }
   ],
   "source": [
    "!docker-compose -f /ffdd/app/app.yml up -d"
   ]
  },
  {
   "cell_type": "markdown",
   "metadata": {
    "collapsed": true,
    "slideshow": {
     "slide_type": "fragment"
    }
   },
   "source": [
    "Why doesn't the app reflect our change?"
   ]
  },
  {
   "cell_type": "code",
   "execution_count": 64,
   "metadata": {
    "collapsed": false,
    "scrolled": true,
    "slideshow": {
     "slide_type": "fragment"
    }
   },
   "outputs": [
    {
     "name": "stdout",
     "output_type": "stream",
     "text": [
      "/usr/local/Cellar/fig/1.3.3/libexec/vendor/lib/python2.7/site-packages/requests/packages/urllib3/util/ssl_.py:90: InsecurePlatformWarning: A true SSLContext object is not available. This prevents urllib3 from configuring SSL appropriately and may cause certain SSL connections to fail. For more information, see https://urllib3.readthedocs.org/en/latest/security.html#insecureplatformwarning.\n",
      "  InsecurePlatformWarning\n",
      "Recreating app_source_1...\n",
      "Recreating app_redis_1...\n",
      "Recreating app_web_1...\n"
     ]
    }
   ],
   "source": [
    "!docker-compose -f /ffdd/app/app.yml up -d"
   ]
  },
  {
   "cell_type": "markdown",
   "metadata": {
    "slideshow": {
     "slide_type": "subslide"
    }
   },
   "source": [
    "## Don't expect too much from **docker-compose up**."
   ]
  },
  {
   "cell_type": "markdown",
   "metadata": {
    "collapsed": true,
    "slideshow": {
     "slide_type": "fragment"
    }
   },
   "source": [
    "It only executes a **build** instruction _once_.\n",
    "<p>\n",
    "It re-uses any previouly built (and potentially stale) images."
   ]
  },
  {
   "cell_type": "markdown",
   "metadata": {
    "collapsed": true,
    "slideshow": {
     "slide_type": "fragment"
    }
   },
   "source": [
    "In order to get an updated image, we must either explicitly call **docker-compose build** or remove the old image."
   ]
  },
  {
   "cell_type": "markdown",
   "metadata": {
    "slideshow": {
     "slide_type": "subslide"
    }
   },
   "source": [
    "## Don't put any more in your image than you must."
   ]
  },
  {
   "cell_type": "markdown",
   "metadata": {
    "slideshow": {
     "slide_type": "fragment"
    }
   },
   "source": [
    "Changing web.py shouldn't mandate rebuilding web **image**."
   ]
  },
  {
   "cell_type": "markdown",
   "metadata": {
    "slideshow": {
     "slide_type": "subslide"
    }
   },
   "source": [
    "## Don't forget volumes.\n",
    "  "
   ]
  },
  {
   "cell_type": "markdown",
   "metadata": {
    "slideshow": {
     "slide_type": "fragment"
    }
   },
   "source": [
    "By default, **docker rm** does _not_ remove associated volumes.\n",
    "- **docker-compose** replaces existing containers and re-uses volumes.\n",
    "- These orphaned volumes can add up.\n",
    "- Use **docker rm** -v or --volume to remove the container's volumes."
   ]
  },
  {
   "cell_type": "markdown",
   "metadata": {
    "slideshow": {
     "slide_type": "slide"
    }
   },
   "source": [
    "# Amazon Web Services"
   ]
  },
  {
   "cell_type": "markdown",
   "metadata": {
    "slideshow": {
     "slide_type": "subslide"
    }
   },
   "source": [
    "## TLAs (Three Letter Acronyms)"
   ]
  },
  {
   "cell_type": "markdown",
   "metadata": {
    "slideshow": {
     "slide_type": "fragment"
    }
   },
   "source": [
    "AWS (Amazon Web Services)"
   ]
  },
  {
   "cell_type": "markdown",
   "metadata": {
    "slideshow": {
     "slide_type": "fragment"
    }
   },
   "source": [
    "EC2 (Elastic Compute Cloud)"
   ]
  },
  {
   "cell_type": "markdown",
   "metadata": {
    "slideshow": {
     "slide_type": "fragment"
    }
   },
   "source": [
    "ECS (EC2 Container Service)"
   ]
  },
  {
   "cell_type": "markdown",
   "metadata": {
    "slideshow": {
     "slide_type": "fragment"
    }
   },
   "source": [
    "ELB (Elastic Load Balancing)"
   ]
  },
  {
   "cell_type": "markdown",
   "metadata": {
    "slideshow": {
     "slide_type": "fragment"
    }
   },
   "source": [
    "AMI (Amazon Machine Image)"
   ]
  },
  {
   "cell_type": "markdown",
   "metadata": {
    "slideshow": {
     "slide_type": "fragment"
    }
   },
   "source": [
    "IAM (Identity and Access Management)"
   ]
  },
  {
   "cell_type": "markdown",
   "metadata": {
    "slideshow": {
     "slide_type": "subslide"
    }
   },
   "source": [
    "Security Groups<p>\n",
    "Launch Configuration<p>\n",
    "Auto Scaling Groups<p>"
   ]
  },
  {
   "cell_type": "markdown",
   "metadata": {
    "slideshow": {
     "slide_type": "subslide"
    }
   },
   "source": [
    "Need Task Definitions\n",
    "    Analogous to a docker-compose.yml file\n",
    "    Need a docker-compose.yml to JSON converter?\n",
    "    Introducing [container-transform](http://github.com/ambitioninc/container-transform/)\n",
    "    Need mem_limit and cpu_shares"
   ]
  },
  {
   "cell_type": "markdown",
   "metadata": {
    "slideshow": {
     "slide_type": "slide"
    }
   },
   "source": [
    "# CircleCI"
   ]
  },
  {
   "cell_type": "code",
   "execution_count": null,
   "metadata": {
    "collapsed": true,
    "slideshow": {
     "slide_type": "fragment"
    }
   },
   "outputs": [],
   "source": [
    "machine:\n",
    "  services:\n",
    "    - docker\n",
    "  pre:\n",
    "    - sudo pip install -U docker-compose\n",
    "  environment:\n",
    "    DOCKER_HUB_USER: gJigsaw\n",
    "    DOCKER_HUB_EMAIL: CircleCI@JasonGreen.Name\n",
    "  post:\n",
    "    - docker info\n",
    "\n",
    "dependencies:\n",
    "  override:\n",
    "    - docker login -e $DOCKER_HUB_EMAIL -u $DOCKER_HUB_USER -p $DOCKER_HUB_PASSWORD\n",
    "    - sudo ln -sf /home/ubuntu/repository_name /ffdd\n",
    "    - /ffdd/get_images.sh\n",
    "\n",
    "test:\n",
    "  pre:\n",
    "    - ls -al /aver && cd /aver && ls -al\n",
    "  override:\n",
    "    - /aver/informatics/run_unit_tests.sh\n",
    "    - /aver/informatics/run_integration_tests.sh\n",
    "\n",
    "deployment:\n",
    "  staging:\n",
    "    branch: master\n",
    "    heroku:\n",
    "      appname: foo-bar-123\n",
    "\n",
    "notify:\n",
    "  webhooks:\n",
    "    - url: https://someurl.com/hooks/circle"
   ]
  },
  {
   "cell_type": "code",
   "execution_count": null,
   "metadata": {
    "collapsed": true
   },
   "outputs": [],
   "source": [
    "dependencies:\n",
    "  cache_directories:\n",
    "    - *docker_cache_directory\n",
    "  environment:\n",
    "    DOCKER_HUB_USER: gJigsaw\n",
    "    DOCKER_HUB_EMAIL: CircleCI@JasonGreen.Name\n",
    "    DOCKER_CACHE_DIRECTORY: &docker_cache_directory '/home/ubuntu/docker_cache'\n",
    "  override:\n",
    "    - /ffdd/get_images.sh"
   ]
  },
  {
   "cell_type": "code",
   "execution_count": null,
   "metadata": {
    "collapsed": true
   },
   "outputs": [],
   "source": [
    "  pre:\n",
    "    - sudo curl -L https://github.com/docker/machine/releases/download/v0.2.0/docker-machine_darwin-amd64 > /usr/local/bin/docker-machine && sudo chmod +x /usr/local/bin/docker-machine\n",
    "  post:\n",
    "    - docker-machine --version\n",
    "    - docker-machine create --url=tcp://54.88.9.37:2376 circle-ci\n"
   ]
  },
  {
   "cell_type": "code",
   "execution_count": null,
   "metadata": {
    "collapsed": true,
    "slideshow": {
     "slide_type": "subslide"
    }
   },
   "outputs": [],
   "source": [
    "#!/bin/bash\n",
    "\n",
    "set -e\n",
    "set -x\n",
    "\n",
    "mkdir -p $DOCKER_CACHE_DIRECTORY/aver\n",
    "\n",
    "for IMAGE in $IMAGES; do\n",
    "    TARBALL_PATH=$DOCKER_CACHE_DIRECTORY/$IMAGE\n",
    "    if [[ -e $TARBALL_PATH ]]; then\n",
    "        docker load -i $TARBALL_PATH;\n",
    "    else\n",
    "        docker pull --all-tags=false $IMAGE\n",
    "        docker save $IMAGE > $TARBALL_PATH;\n",
    "    fi\n",
    "done"
   ]
  },
  {
   "cell_type": "markdown",
   "metadata": {
    "slideshow": {
     "slide_type": "slide"
    }
   },
   "source": [
    "# I've Nothing else."
   ]
  },
  {
   "cell_type": "markdown",
   "metadata": {
    "slideshow": {
     "slide_type": "fragment"
    }
   },
   "source": [
    "gJigsaw  <sub><sub>gMail, GitHub, <sub> and **very** infrequently Twitter</sub></sub></sub>"
   ]
  }
 ],
 "metadata": {
  "celltoolbar": "Slideshow",
  "kernelspec": {
   "display_name": "Python 3",
   "language": "python",
   "name": "python3"
  },
  "language_info": {
   "codemirror_mode": {
    "name": "ipython",
    "version": 3
   },
   "file_extension": ".py",
   "mimetype": "text/x-python",
   "name": "python",
   "nbconvert_exporter": "python",
   "pygments_lexer": "ipython3",
   "version": "3.4.2"
  }
 },
 "nbformat": 4,
 "nbformat_minor": 0
}
